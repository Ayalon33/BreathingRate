{
 "cells": [
  {
   "cell_type": "markdown",
   "id": "7da8962f-1369-455b-80eb-6d7b44fde3c9",
   "metadata": {},
   "source": [
    "# Colocar os datasets o padrao do LifeSenior"
   ]
  },
  {
   "cell_type": "markdown",
   "id": "eec41ebb-eda1-4c7a-a894-cd2148143890",
   "metadata": {},
   "source": [
    "+ HTAD Dataset"
   ]
  },
  {
   "cell_type": "code",
   "execution_count": 16,
   "id": "60c586d6-9800-48dc-917c-c7822401e8ca",
   "metadata": {},
   "outputs": [],
   "source": [
    "import os\n",
    "import pandas as pd\n",
    "import numpy  as np\n",
    "import openpyxl\n",
    "from openpyxl import load_workbook"
   ]
  },
  {
   "cell_type": "code",
   "execution_count": null,
   "id": "24006161-07d5-4fe9-903a-a46a48cdac27",
   "metadata": {},
   "outputs": [],
   "source": [
    "num_pessoas = 3     #numero de pessoas na pasta\n",
    "all_data = np.empty((27, 12000))"
   ]
  },
  {
   "cell_type": "code",
   "execution_count": null,
   "id": "4877cd5e-bc68-4df7-a519-7c2a66ed5c62",
   "metadata": {},
   "outputs": [],
   "source": [
    "pasta = r\"C:\\Users\\ayalo\\Downloads\\htad\\HTAD dataset\"\n",
    "arquivos = [arquivos for arquivos in os.walk(pasta)]"
   ]
  },
  {
   "cell_type": "code",
   "execution_count": 293,
   "id": "b69a1a2a-6f1a-43e0-844e-b8dbd8f088aa",
   "metadata": {},
   "outputs": [
    {
     "name": "stdout",
     "output_type": "stream",
     "text": [
      "C:\\Users\\ayalo\\Downloads\\htad\\HTAD dataset\\AYALON\n",
      "Wall time: 463 ms\n"
     ]
    }
   ],
   "source": [
    "%%time\n",
    "cont_colunas = 0\n",
    "for i in range(num_pessoas):\n",
    "\n",
    "    file = [ file for file in arquivos[i+2][2] if file.endswith('.txt')]\n",
    "    \n",
    "    for j in range (len(file)):\n",
    "        caminho = arquivos[i+2][0] + \"\\\\\" + file[j]\n",
    "        numerics = pd.read_csv(caminho, header = 0, delimiter = \",\")\n",
    "        numerics.columns=[\"a\", \"b\", \"c\", \"d\"]\n",
    "        tam_vet = len(numerics['b'])\n",
    "        all_data[cont_colunas][0:tam_vet] = numerics['b']\n",
    "        cont_colunas = cont_colunas + 1\n",
    "        \n",
    "os.chdir(r\"C:\\Users\\ayalo\\Downloads\\htad\\HTAD dataset\\AYALON\" )\n",
    "print(os.getcwd())\n",
    "data_df = pd.DataFrame(all_data)\n",
    "data_df.to_csv('ACELEROMETRO-X.csv', sep = ';', index=False, header=False)"
   ]
  },
  {
   "cell_type": "code",
   "execution_count": 294,
   "id": "dc6ddb8f-0591-4d04-b1e2-c2f35414e529",
   "metadata": {},
   "outputs": [
    {
     "name": "stdout",
     "output_type": "stream",
     "text": [
      "C:\\Users\\ayalo\\Downloads\\htad\\HTAD dataset\\AYALON\n",
      "Wall time: 433 ms\n"
     ]
    }
   ],
   "source": [
    "%%time\n",
    "cont_colunas = 0\n",
    "for i in range(num_pessoas):\n",
    "\n",
    "    file = [ file for file in arquivos[i+2][2] if file.endswith('.txt')]\n",
    "    \n",
    "    for j in range (len(file)):\n",
    "        caminho = arquivos[i+2][0] + \"\\\\\" + file[j]\n",
    "        numerics = pd.read_csv(caminho, header = 0, delimiter = \",\")\n",
    "        numerics.columns=[\"a\", \"b\", \"c\", \"d\"]\n",
    "        tam_vet = len(numerics['c'])\n",
    "        all_data[cont_colunas][0:tam_vet] = numerics['c']\n",
    "        cont_colunas = cont_colunas + 1\n",
    "        \n",
    "os.chdir(r\"C:\\Users\\ayalo\\Downloads\\htad\\HTAD dataset\\AYALON\" )\n",
    "print(os.getcwd())\n",
    "data_df = pd.DataFrame(all_data)\n",
    "data_df.to_csv('ACELEROMETRO-Y.csv', sep = ';', index=False, header=False)"
   ]
  },
  {
   "cell_type": "code",
   "execution_count": 295,
   "id": "668466df-35bb-4210-bbab-c963e992627e",
   "metadata": {},
   "outputs": [
    {
     "name": "stdout",
     "output_type": "stream",
     "text": [
      "C:\\Users\\ayalo\\Downloads\\htad\\HTAD dataset\\AYALON\n",
      "Wall time: 488 ms\n"
     ]
    }
   ],
   "source": [
    "%%time\n",
    "cont_colunas = 0\n",
    "for i in range(num_pessoas):\n",
    "\n",
    "    file = [ file for file in arquivos[i+2][2] if file.endswith('.txt')]\n",
    "    \n",
    "    for j in range (len(file)):\n",
    "        caminho = arquivos[i+2][0] + \"\\\\\" + file[j]\n",
    "        numerics = pd.read_csv(caminho, header = 0, delimiter = \",\")\n",
    "        numerics.columns=[\"a\", \"b\", \"c\", \"d\"]\n",
    "        tam_vet = len(numerics['d'])\n",
    "        all_data[cont_colunas][0:tam_vet] = numerics['d']\n",
    "        cont_colunas = cont_colunas + 1\n",
    "        \n",
    "os.chdir(r\"C:\\Users\\ayalo\\Downloads\\htad\\HTAD dataset\\AYALON\" )\n",
    "print(os.getcwd())\n",
    "data_df = pd.DataFrame(all_data)\n",
    "data_df.to_csv('ACELEROMETRO-Z.csv', sep = ';', index=False, header=False)"
   ]
  },
  {
   "cell_type": "markdown",
   "id": "e2fd56e8-19ee-4385-b0f9-29bcde719fbe",
   "metadata": {},
   "source": [
    "* HMP_Dataset-master"
   ]
  },
  {
   "cell_type": "code",
   "execution_count": 296,
   "id": "2ecf7db5-ac29-48a5-9447-34c0783fef56",
   "metadata": {},
   "outputs": [],
   "source": [
    "num_atividades = 14     #numero de atividades na pasta\n",
    "all_data = np.empty((900, 10000))"
   ]
  },
  {
   "cell_type": "code",
   "execution_count": 297,
   "id": "3dd8fd78-7229-4828-aafb-21d466db3e2f",
   "metadata": {},
   "outputs": [],
   "source": [
    "pasta = r\"C:\\Users\\ayalo\\Downloads\\HMP_Dataset-master\\HMP_Dataset-master\"\n",
    "arquivos = [arquivos for arquivos in os.walk(pasta)]"
   ]
  },
  {
   "cell_type": "code",
   "execution_count": 298,
   "id": "076887f0-fc5e-494b-aa41-e5836ba94cd1",
   "metadata": {},
   "outputs": [
    {
     "name": "stdout",
     "output_type": "stream",
     "text": [
      "Wall time: 7.03 s\n"
     ]
    }
   ],
   "source": [
    "%%time\n",
    "cont_colunas = 0\n",
    "for i in range(num_atividades):\n",
    "\n",
    "    file = [ file for file in arquivos[i+3][2] if file.endswith('.txt')]\n",
    "    \n",
    "    for j in range (len(file)):\n",
    "        caminho = arquivos[i+3][0] + \"\\\\\" + file[j]\n",
    "        numerics = pd.read_csv(caminho, header = 0, delimiter = \" \")\n",
    "        numerics.columns=[\"a\", \"b\", \"c\"]\n",
    "        tam_vet = len(numerics['a'])\n",
    "        all_data[cont_colunas][0:tam_vet] = numerics['a']\n",
    "        cont_colunas = cont_colunas + 1\n",
    "        \n",
    "os.chdir(r\"C:\\Users\\ayalo\\Downloads\\HMP_Dataset-master\\HMP_Dataset-master\\AYALON\" )\n",
    "data_df = pd.DataFrame(all_data)\n",
    "data_df.to_csv('ACELEROMETRO-X.csv', sep = ';', index=False, header=False)"
   ]
  },
  {
   "cell_type": "code",
   "execution_count": 299,
   "id": "3fdad561-7763-46c6-abd6-d567a4054e12",
   "metadata": {},
   "outputs": [
    {
     "name": "stdout",
     "output_type": "stream",
     "text": [
      "Wall time: 6.65 s\n"
     ]
    }
   ],
   "source": [
    "%%time\n",
    "cont_colunas = 0\n",
    "for i in range(num_atividades):\n",
    "\n",
    "    file = [ file for file in arquivos[i+3][2] if file.endswith('.txt')]\n",
    "    \n",
    "    for j in range (len(file)):\n",
    "        caminho = arquivos[i+3][0] + \"\\\\\" + file[j]\n",
    "        numerics = pd.read_csv(caminho, header = 0, delimiter = \" \")\n",
    "        numerics.columns=[\"a\", \"b\", \"c\"]\n",
    "        tam_vet = len(numerics['b'])\n",
    "        all_data[cont_colunas][0:tam_vet] = numerics['b']\n",
    "        cont_colunas = cont_colunas + 1\n",
    "        \n",
    "os.chdir(r\"C:\\Users\\ayalo\\Downloads\\HMP_Dataset-master\\HMP_Dataset-master\\AYALON\" )\n",
    "data_df = pd.DataFrame(all_data)\n",
    "data_df.to_csv('ACELEROMETRO-Y.csv', sep = ';', index=False, header=False)"
   ]
  },
  {
   "cell_type": "code",
   "execution_count": 300,
   "id": "9c8e8511-b5cc-4545-9572-9b4e06da08a5",
   "metadata": {},
   "outputs": [
    {
     "name": "stdout",
     "output_type": "stream",
     "text": [
      "Wall time: 6.57 s\n"
     ]
    }
   ],
   "source": [
    "%%time\n",
    "cont_colunas = 0\n",
    "for i in range(num_atividades):\n",
    "\n",
    "    file = [ file for file in arquivos[i+3][2] if file.endswith('.txt')]\n",
    "    \n",
    "    for j in range (len(file)):\n",
    "        caminho = arquivos[i+3][0] + \"\\\\\" + file[j]\n",
    "        numerics = pd.read_csv(caminho, header = 0, delimiter = \" \")\n",
    "        numerics.columns=[\"a\", \"b\", \"c\"]\n",
    "        tam_vet = len(numerics['c'])\n",
    "        all_data[cont_colunas][0:tam_vet] = numerics['c']\n",
    "        cont_colunas = cont_colunas + 1\n",
    "        \n",
    "os.chdir(r\"C:\\Users\\ayalo\\Downloads\\HMP_Dataset-master\\HMP_Dataset-master\\AYALON\" )\n",
    "data_df = pd.DataFrame(all_data)\n",
    "data_df.to_csv('ACELEROMETRO-Z.csv', sep = ';', index=False, header=False)"
   ]
  },
  {
   "cell_type": "markdown",
   "id": "76459371-3c3f-4ebc-b031-e91bb269a3a7",
   "metadata": {},
   "source": [
    "+ Data"
   ]
  },
  {
   "cell_type": "code",
   "execution_count": 3,
   "id": "191a05f9-2ecd-4af8-a709-bd9b5e31531e",
   "metadata": {},
   "outputs": [],
   "source": [
    "num_atividades = 1     #numero de atividades na pasta\n",
    "all_data = np.empty((900, 10000))"
   ]
  },
  {
   "cell_type": "code",
   "execution_count": 4,
   "id": "551f0d71-1466-4471-85b0-4c5bf581dce1",
   "metadata": {},
   "outputs": [],
   "source": [
    "pasta = r\"C:\\Users\\ayalo\\Downloads\\Data\"\n",
    "arquivos = [arquivos for arquivos in os.walk(pasta)]"
   ]
  },
  {
   "cell_type": "code",
   "execution_count": 5,
   "id": "8f43ee1d-51aa-47df-b0cb-f1afc9d76bac",
   "metadata": {},
   "outputs": [
    {
     "data": {
      "text/plain": [
       "'C:\\\\Users\\\\ayalo\\\\Downloads\\\\Data'"
      ]
     },
     "execution_count": 5,
     "metadata": {},
     "output_type": "execute_result"
    }
   ],
   "source": [
    "arquivos[0][0]"
   ]
  },
  {
   "cell_type": "code",
   "execution_count": 23,
   "id": "e73436d9-a28e-4089-9641-0e74ad8042f0",
   "metadata": {},
   "outputs": [
    {
     "name": "stdout",
     "output_type": "stream",
     "text": [
      "Wall time: 6.54 s\n"
     ]
    }
   ],
   "source": [
    "%%time\n",
    "cont_colunas = 0\n",
    "\n",
    "file = [ file for file in arquivos[0][2] if file.endswith('.csv')]\n",
    "\n",
    "for j in range (len(file)):\n",
    "    caminho = arquivos[0][0] + \"\\\\\" + file[j]\n",
    "    numerics = pd.read_csv(caminho, header = 0, delimiter = \"\\t\")#, decimal=\".\")\n",
    "    numerics = numerics.apply(pd.to_numeric, errors='coerce')\n",
    "    numerics.columns=[\"a\", \"b\", \"c\"]\n",
    "    tam_vet = len(numerics['a'])\n",
    "    all_data[cont_colunas][0:tam_vet] = numerics['a']\n",
    "    cont_colunas = cont_colunas + 1\n",
    "\n",
    "os.chdir(r\"C:\\Users\\ayalo\\Downloads\\Data\\AYALON\" )\n",
    "data_df = pd.DataFrame(all_data)\n",
    "data_df.to_csv('ACELEROMETRO-X.csv', sep = ';', index=False, header=False)"
   ]
  },
  {
   "cell_type": "code",
   "execution_count": 22,
   "id": "95874e09-4bdb-4881-88b4-01bb5bb16128",
   "metadata": {},
   "outputs": [
    {
     "data": {
      "text/plain": [
       "numpy.ndarray"
      ]
     },
     "execution_count": 22,
     "metadata": {},
     "output_type": "execute_result"
    }
   ],
   "source": [
    "type(all_data)"
   ]
  },
  {
   "cell_type": "code",
   "execution_count": null,
   "id": "2bee3ec3-04da-46b3-a07c-5d2b15959414",
   "metadata": {},
   "outputs": [],
   "source": []
  }
 ],
 "metadata": {
  "kernelspec": {
   "display_name": "Python 3",
   "language": "python",
   "name": "python3"
  },
  "language_info": {
   "codemirror_mode": {
    "name": "ipython",
    "version": 3
   },
   "file_extension": ".py",
   "mimetype": "text/x-python",
   "name": "python",
   "nbconvert_exporter": "python",
   "pygments_lexer": "ipython3",
   "version": "3.9.4"
  }
 },
 "nbformat": 4,
 "nbformat_minor": 5
}
