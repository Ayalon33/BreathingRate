{
 "cells": [
  {
   "cell_type": "markdown",
   "id": "7da8962f-1369-455b-80eb-6d7b44fde3c9",
   "metadata": {},
   "source": [
    "# Colocar os datasets o padrao do LifeSenior"
   ]
  },
  {
   "cell_type": "markdown",
   "id": "eec41ebb-eda1-4c7a-a894-cd2148143890",
   "metadata": {},
   "source": [
    "+ HTAD Dataset"
   ]
  },
  {
   "cell_type": "code",
   "execution_count": 2,
   "id": "60c586d6-9800-48dc-917c-c7822401e8ca",
   "metadata": {},
   "outputs": [],
   "source": [
    "import os\n",
    "import pandas as pd\n",
    "import numpy  as np\n",
    "import matplotlib.pyplot as plt\n",
    "import openpyxl\n",
    "from openpyxl import load_workbook"
   ]
  },
  {
   "cell_type": "code",
   "execution_count": 2,
   "id": "24006161-07d5-4fe9-903a-a46a48cdac27",
   "metadata": {},
   "outputs": [],
   "source": [
    "num_pessoas = 3     #numero de pessoas na pasta\n",
    "all_data = np.empty((27, 12000))"
   ]
  },
  {
   "cell_type": "code",
   "execution_count": null,
   "id": "4877cd5e-bc68-4df7-a519-7c2a66ed5c62",
   "metadata": {},
   "outputs": [],
   "source": [
    "pasta = r\"C:\\Users\\ayalo\\Downloads\\htad\\HTAD dataset\"\n",
    "arquivos = [arquivos for arquivos in os.walk(pasta)]"
   ]
  },
  {
   "cell_type": "code",
   "execution_count": 293,
   "id": "b69a1a2a-6f1a-43e0-844e-b8dbd8f088aa",
   "metadata": {},
   "outputs": [
    {
     "name": "stdout",
     "output_type": "stream",
     "text": [
      "C:\\Users\\ayalo\\Downloads\\htad\\HTAD dataset\\AYALON\n",
      "Wall time: 463 ms\n"
     ]
    }
   ],
   "source": [
    "%%time\n",
    "cont_colunas = 0\n",
    "for i in range(num_pessoas):\n",
    "\n",
    "    file = [ file for file in arquivos[i+2][2] if file.endswith('.txt')]\n",
    "    \n",
    "    for j in range (len(file)):\n",
    "        caminho = arquivos[i+2][0] + \"\\\\\" + file[j]\n",
    "        numerics = pd.read_csv(caminho, header = 0, delimiter = \",\")\n",
    "        numerics.columns=[\"a\", \"b\", \"c\", \"d\"]\n",
    "        tam_vet = len(numerics['b'])\n",
    "        all_data[cont_colunas][0:tam_vet] = numerics['b']\n",
    "        cont_colunas = cont_colunas + 1\n",
    "        \n",
    "os.chdir(r\"C:\\Users\\ayalo\\Downloads\\htad\\HTAD dataset\\AYALON\" )\n",
    "print(os.getcwd())\n",
    "data_df = pd.DataFrame(all_data)\n",
    "data_df.to_csv('ACELEROMETRO-X.csv', sep = ';', index=False, header=False)"
   ]
  },
  {
   "cell_type": "code",
   "execution_count": 294,
   "id": "dc6ddb8f-0591-4d04-b1e2-c2f35414e529",
   "metadata": {},
   "outputs": [
    {
     "name": "stdout",
     "output_type": "stream",
     "text": [
      "C:\\Users\\ayalo\\Downloads\\htad\\HTAD dataset\\AYALON\n",
      "Wall time: 433 ms\n"
     ]
    }
   ],
   "source": [
    "%%time\n",
    "cont_colunas = 0\n",
    "for i in range(num_pessoas):\n",
    "\n",
    "    file = [ file for file in arquivos[i+2][2] if file.endswith('.txt')]\n",
    "    \n",
    "    for j in range (len(file)):\n",
    "        caminho = arquivos[i+2][0] + \"\\\\\" + file[j]\n",
    "        numerics = pd.read_csv(caminho, header = 0, delimiter = \",\")\n",
    "        numerics.columns=[\"a\", \"b\", \"c\", \"d\"]\n",
    "        tam_vet = len(numerics['c'])\n",
    "        all_data[cont_colunas][0:tam_vet] = numerics['c']\n",
    "        cont_colunas = cont_colunas + 1\n",
    "        \n",
    "os.chdir(r\"C:\\Users\\ayalo\\Downloads\\htad\\HTAD dataset\\AYALON\" )\n",
    "print(os.getcwd())\n",
    "data_df = pd.DataFrame(all_data)\n",
    "data_df.to_csv('ACELEROMETRO-Y.csv', sep = ';', index=False, header=False)"
   ]
  },
  {
   "cell_type": "code",
   "execution_count": 295,
   "id": "668466df-35bb-4210-bbab-c963e992627e",
   "metadata": {},
   "outputs": [
    {
     "name": "stdout",
     "output_type": "stream",
     "text": [
      "C:\\Users\\ayalo\\Downloads\\htad\\HTAD dataset\\AYALON\n",
      "Wall time: 488 ms\n"
     ]
    }
   ],
   "source": [
    "%%time\n",
    "cont_colunas = 0\n",
    "for i in range(num_pessoas):\n",
    "\n",
    "    file = [ file for file in arquivos[i+2][2] if file.endswith('.txt')]\n",
    "    \n",
    "    for j in range (len(file)):\n",
    "        caminho = arquivos[i+2][0] + \"\\\\\" + file[j]\n",
    "        numerics = pd.read_csv(caminho, header = 0, delimiter = \",\")\n",
    "        numerics.columns=[\"a\", \"b\", \"c\", \"d\"]\n",
    "        tam_vet = len(numerics['d'])\n",
    "        all_data[cont_colunas][0:tam_vet] = numerics['d']\n",
    "        cont_colunas = cont_colunas + 1\n",
    "        \n",
    "os.chdir(r\"C:\\Users\\ayalo\\Downloads\\htad\\HTAD dataset\\AYALON\" )\n",
    "print(os.getcwd())\n",
    "data_df = pd.DataFrame(all_data)\n",
    "data_df.to_csv('ACELEROMETRO-Z.csv', sep = ';', index=False, header=False)"
   ]
  },
  {
   "cell_type": "markdown",
   "id": "e2fd56e8-19ee-4385-b0f9-29bcde719fbe",
   "metadata": {},
   "source": [
    "* HMP_Dataset-master"
   ]
  },
  {
   "cell_type": "code",
   "execution_count": 296,
   "id": "2ecf7db5-ac29-48a5-9447-34c0783fef56",
   "metadata": {},
   "outputs": [],
   "source": [
    "num_atividades = 14     #numero de atividades na pasta\n",
    "all_data = np.empty((900, 10000))"
   ]
  },
  {
   "cell_type": "code",
   "execution_count": 297,
   "id": "3dd8fd78-7229-4828-aafb-21d466db3e2f",
   "metadata": {},
   "outputs": [],
   "source": [
    "pasta = r\"C:\\Users\\ayalo\\Downloads\\HMP_Dataset-master\\HMP_Dataset-master\"\n",
    "arquivos = [arquivos for arquivos in os.walk(pasta)]"
   ]
  },
  {
   "cell_type": "code",
   "execution_count": 298,
   "id": "076887f0-fc5e-494b-aa41-e5836ba94cd1",
   "metadata": {},
   "outputs": [
    {
     "name": "stdout",
     "output_type": "stream",
     "text": [
      "Wall time: 7.03 s\n"
     ]
    }
   ],
   "source": [
    "%%time\n",
    "cont_colunas = 0\n",
    "for i in range(num_atividades):\n",
    "\n",
    "    file = [ file for file in arquivos[i+3][2] if file.endswith('.txt')]\n",
    "    \n",
    "    for j in range (len(file)):\n",
    "        caminho = arquivos[i+3][0] + \"\\\\\" + file[j]\n",
    "        numerics = pd.read_csv(caminho, header = 0, delimiter = \" \")\n",
    "        numerics.columns=[\"a\", \"b\", \"c\"]\n",
    "        tam_vet = len(numerics['a'])\n",
    "        all_data[cont_colunas][0:tam_vet] = numerics['a']\n",
    "        cont_colunas = cont_colunas + 1\n",
    "        \n",
    "os.chdir(r\"C:\\Users\\ayalo\\Downloads\\HMP_Dataset-master\\HMP_Dataset-master\\AYALON\" )\n",
    "data_df = pd.DataFrame(all_data)\n",
    "data_df.to_csv('ACELEROMETRO-X.csv', sep = ';', index=False, header=False)"
   ]
  },
  {
   "cell_type": "code",
   "execution_count": 299,
   "id": "3fdad561-7763-46c6-abd6-d567a4054e12",
   "metadata": {},
   "outputs": [
    {
     "name": "stdout",
     "output_type": "stream",
     "text": [
      "Wall time: 6.65 s\n"
     ]
    }
   ],
   "source": [
    "%%time\n",
    "cont_colunas = 0\n",
    "for i in range(num_atividades):\n",
    "\n",
    "    file = [ file for file in arquivos[i+3][2] if file.endswith('.txt')]\n",
    "    \n",
    "    for j in range (len(file)):\n",
    "        caminho = arquivos[i+3][0] + \"\\\\\" + file[j]\n",
    "        numerics = pd.read_csv(caminho, header = 0, delimiter = \" \")\n",
    "        numerics.columns=[\"a\", \"b\", \"c\"]\n",
    "        tam_vet = len(numerics['b'])\n",
    "        all_data[cont_colunas][0:tam_vet] = numerics['b']\n",
    "        cont_colunas = cont_colunas + 1\n",
    "        \n",
    "os.chdir(r\"C:\\Users\\ayalo\\Downloads\\HMP_Dataset-master\\HMP_Dataset-master\\AYALON\" )\n",
    "data_df = pd.DataFrame(all_data)\n",
    "data_df.to_csv('ACELEROMETRO-Y.csv', sep = ';', index=False, header=False)"
   ]
  },
  {
   "cell_type": "code",
   "execution_count": 300,
   "id": "9c8e8511-b5cc-4545-9572-9b4e06da08a5",
   "metadata": {},
   "outputs": [
    {
     "name": "stdout",
     "output_type": "stream",
     "text": [
      "Wall time: 6.57 s\n"
     ]
    }
   ],
   "source": [
    "%%time\n",
    "cont_colunas = 0\n",
    "for i in range(num_atividades):\n",
    "\n",
    "    file = [ file for file in arquivos[i+3][2] if file.endswith('.txt')]\n",
    "    \n",
    "    for j in range (len(file)):\n",
    "        caminho = arquivos[i+3][0] + \"\\\\\" + file[j]\n",
    "        numerics = pd.read_csv(caminho, header = 0, delimiter = \" \")\n",
    "        numerics.columns=[\"a\", \"b\", \"c\"]\n",
    "        tam_vet = len(numerics['c'])\n",
    "        all_data[cont_colunas][0:tam_vet] = numerics['c']\n",
    "        cont_colunas = cont_colunas + 1\n",
    "        \n",
    "os.chdir(r\"C:\\Users\\ayalo\\Downloads\\HMP_Dataset-master\\HMP_Dataset-master\\AYALON\" )\n",
    "data_df = pd.DataFrame(all_data)\n",
    "data_df.to_csv('ACELEROMETRO-Z.csv', sep = ';', index=False, header=False)"
   ]
  },
  {
   "cell_type": "markdown",
   "id": "76459371-3c3f-4ebc-b031-e91bb269a3a7",
   "metadata": {},
   "source": [
    "+ Data"
   ]
  },
  {
   "cell_type": "code",
   "execution_count": 3,
   "id": "191a05f9-2ecd-4af8-a709-bd9b5e31531e",
   "metadata": {},
   "outputs": [],
   "source": [
    "num_atividades = 1     #numero de atividades na pasta\n",
    "all_data = np.empty((900, 10000))"
   ]
  },
  {
   "cell_type": "code",
   "execution_count": 4,
   "id": "551f0d71-1466-4471-85b0-4c5bf581dce1",
   "metadata": {},
   "outputs": [],
   "source": [
    "pasta = r\"C:\\Users\\ayalo\\Downloads\\Data\"\n",
    "arquivos = [arquivos for arquivos in os.walk(pasta)]"
   ]
  },
  {
   "cell_type": "code",
   "execution_count": 5,
   "id": "8f43ee1d-51aa-47df-b0cb-f1afc9d76bac",
   "metadata": {},
   "outputs": [
    {
     "data": {
      "text/plain": [
       "'C:\\\\Users\\\\ayalo\\\\Downloads\\\\Data'"
      ]
     },
     "execution_count": 5,
     "metadata": {},
     "output_type": "execute_result"
    }
   ],
   "source": [
    "arquivos[0][0]"
   ]
  },
  {
   "cell_type": "code",
   "execution_count": 23,
   "id": "e73436d9-a28e-4089-9641-0e74ad8042f0",
   "metadata": {},
   "outputs": [
    {
     "name": "stdout",
     "output_type": "stream",
     "text": [
      "Wall time: 6.54 s\n"
     ]
    }
   ],
   "source": [
    "%%time\n",
    "cont_colunas = 0\n",
    "\n",
    "file = [ file for file in arquivos[0][2] if file.endswith('.csv')]\n",
    "\n",
    "for j in range (len(file)):\n",
    "    caminho = arquivos[0][0] + \"\\\\\" + file[j]\n",
    "    numerics = pd.read_csv(caminho, header = 0, delimiter = \"\\t\")#, decimal=\".\")\n",
    "    numerics = numerics.apply(pd.to_numeric, errors='coerce')\n",
    "    numerics.columns=[\"a\", \"b\", \"c\"]\n",
    "    tam_vet = len(numerics['a'])\n",
    "    all_data[cont_colunas][0:tam_vet] = numerics['a']\n",
    "    cont_colunas = cont_colunas + 1\n",
    "\n",
    "os.chdir(r\"C:\\Users\\ayalo\\Downloads\\Data\\AYALON\" )\n",
    "data_df = pd.DataFrame(all_data)\n",
    "data_df.to_csv('ACELEROMETRO-X.csv', sep = ';', index=False, header=False)"
   ]
  },
  {
   "cell_type": "code",
   "execution_count": 22,
   "id": "95874e09-4bdb-4881-88b4-01bb5bb16128",
   "metadata": {},
   "outputs": [
    {
     "data": {
      "text/plain": [
       "numpy.ndarray"
      ]
     },
     "execution_count": 22,
     "metadata": {},
     "output_type": "execute_result"
    }
   ],
   "source": [
    "type(all_data)"
   ]
  },
  {
   "cell_type": "markdown",
   "id": "792374db-d8a0-4d12-9d06-093b14bd5ea3",
   "metadata": {},
   "source": [
    "+ DATASET LIFESENIOR"
   ]
  },
  {
   "cell_type": "code",
   "execution_count": 177,
   "id": "3e57b261-2e66-4731-aa40-45f5f1fea060",
   "metadata": {},
   "outputs": [],
   "source": [
    "num_pessoas = 1     #numero de pessoas na pasta\n",
    "tamanho_vetor = 2067\n",
    "all_data = np.empty((1, tamanho_vetor))"
   ]
  },
  {
   "cell_type": "code",
   "execution_count": 178,
   "id": "f9a442d6-3485-4f33-a030-96f6ddf4941a",
   "metadata": {},
   "outputs": [],
   "source": [
    "pasta = r\"C:\\Users\\Ayalon\\Downloads\\V1_AVD_A_1\"\n",
    "arquivos = [arquivos for arquivos in os.walk(pasta)]"
   ]
  },
  {
   "cell_type": "code",
   "execution_count": 179,
   "id": "ba50898d-d6d0-439d-97cc-91ebbdd799d1",
   "metadata": {},
   "outputs": [
    {
     "name": "stdout",
     "output_type": "stream",
     "text": [
      "Wall time: 54.1 ms\n"
     ]
    }
   ],
   "source": [
    "%%time\n",
    "cont_colunas = 0\n",
    "for i in range(num_pessoas):\n",
    "\n",
    "    file = [ file for file in arquivos[0][2] if file.endswith('.csv')]\n",
    "    \n",
    "    for j in range (len(file)):\n",
    "        caminho = arquivos[0][0] + \"\\\\\" + file[j]\n",
    "        numerics = pd.read_csv(caminho, header = None, delimiter = \",\")\n",
    "        tamanho_vetor = len(numerics[0])\n",
    "        numerics1 = numerics.reindex(np.linspace(0, tamanho_vetor-1, 2*tamanho_vetor-1)).interpolate().astype(float)\n",
    "        os.chdir(r\"C:\\Users\\Ayalon\\Downloads\\V1_AVD_A_1\\AYALON\" )\n",
    "        numerics1.to_csv(str(j)+'.csv', sep = ';', index = None, header = None)"
   ]
  },
  {
   "cell_type": "code",
   "execution_count": 180,
   "id": "b4e3f91d-cc7e-4a21-acb9-a60f68ab9abc",
   "metadata": {},
   "outputs": [
    {
     "data": {
      "image/png": "[encoded data removed]",
      "text/plain": [
       "<Figure size 432x288 with 1 Axes>"
      ]
     },
     "metadata": {
      "needs_background": "light"
     },
     "output_type": "display_data"
    },
    {
     "data": {
      "image/png": "[encoded data removed]",
      "text/plain": [
       "<Figure size 432x288 with 1 Axes>"
      ]
     },
     "metadata": {
      "needs_background": "light"
     },
     "output_type": "display_data"
    },
    {
     "data": {
      "image/png": "[encoded data removed]",
      "text/plain": [
       "<Figure size 432x288 with 1 Axes>"
      ]
     },
     "metadata": {
      "needs_background": "light"
     },
     "output_type": "display_data"
    },
    {
     "data": {
      "image/png": "[encoded data removed]",
      "text/plain": [
       "<Figure size 432x288 with 1 Axes>"
      ]
     },
     "metadata": {
      "needs_background": "light"
     },
     "output_type": "display_data"
    },
    {
     "data": {
      "image/png": "[encoded data removed]",
      "text/plain": [
       "<Figure size 432x288 with 1 Axes>"
      ]
     },
     "metadata": {
      "needs_background": "light"
     },
     "output_type": "display_data"
    },
    {
     "data": {
      "image/png": "[encoded data removed]",
      "text/plain": [
       "<Figure size 432x288 with 1 Axes>"
      ]
     },
     "metadata": {
      "needs_background": "light"
     },
     "output_type": "display_data"
    },
    {
     "data": {
      "image/png": "[encoded data removed]",
      "text/plain": [
       "<Figure size 432x288 with 1 Axes>"
      ]
     },
     "metadata": {
      "needs_background": "light"
     },
     "output_type": "display_data"
    },
    {
     "name": "stdout",
     "output_type": "stream",
     "text": [
      "515 258\n"
     ]
    }
   ],
   "source": [
    "plt.plot(numerics1)\n",
    "plt.show()\n",
    "plt.plot(numerics)\n",
    "plt.show()\n",
    "plt.plot(numerics1[16::])\n",
    "plt.show()\n",
    "plt.plot(numerics1[32::])\n",
    "plt.show()\n",
    "plt.plot(numerics1[::2])\n",
    "plt.show()\n",
    "plt.plot(numerics1[::4])\n",
    "plt.show()\n",
    "plt.plot(numerics1[::8])\n",
    "plt.show()\n",
    "\n",
    "\n",
    "\n",
    "\n",
    "\n",
    "\n",
    "\n",
    "\n",
    "print(len(numerics1),len(numerics))"
   ]
  },
  {
   "cell_type": "code",
   "execution_count": 157,
   "id": "8dd8147c-f62b-4701-aa2c-6234c960109e",
   "metadata": {},
   "outputs": [
    {
     "name": "stdout",
     "output_type": "stream",
     "text": [
      "                0\n",
      "0    1.659458e+09\n",
      "1    4.000000e+00\n",
      "2    2.973000e+01\n",
      "3    2.973000e+01\n",
      "4    2.973000e+01\n",
      "..            ...\n",
      "123  2.951000e+01\n",
      "124  2.951000e+01\n",
      "125  2.951000e+01\n",
      "126  2.951000e+01\n",
      "127  2.951000e+01\n",
      "\n",
      "[128 rows x 1 columns] 128 Hz\n"
     ]
    }
   ],
   "source": [
    "valor = numerics[0:128]\n",
    "print(valor,len(valor),'Hz')"
   ]
  },
  {
   "cell_type": "code",
   "execution_count": 170,
   "id": "20212300-de62-4557-bfa0-476a296e7419",
   "metadata": {},
   "outputs": [
    {
     "name": "stdout",
     "output_type": "stream",
     "text": [
      "         0\n",
      "16   29.75\n",
      "17   29.75\n",
      "18   29.77\n",
      "19   29.77\n",
      "20   29.77\n",
      "..     ...\n",
      "123  29.51\n",
      "124  29.51\n",
      "125  29.51\n",
      "126  29.51\n",
      "127  29.51\n",
      "\n",
      "[112 rows x 1 columns]\n",
      "112 Hz\n"
     ]
    }
   ],
   "source": [
    "print(valor[16::])\n",
    "print(len(valor[16::]),'Hz')"
   ]
  },
  {
   "cell_type": "code",
   "execution_count": 171,
   "id": "5ebbf7ee-c11d-452e-9d15-af7171783bd2",
   "metadata": {},
   "outputs": [
    {
     "name": "stdout",
     "output_type": "stream",
     "text": [
      "         0\n",
      "32   29.81\n",
      "33   29.81\n",
      "34   29.79\n",
      "35   29.79\n",
      "36   29.79\n",
      "..     ...\n",
      "123  29.51\n",
      "124  29.51\n",
      "125  29.51\n",
      "126  29.51\n",
      "127  29.51\n",
      "\n",
      "[96 rows x 1 columns]\n",
      "96 Hz\n"
     ]
    }
   ],
   "source": [
    "print(valor[32::])\n",
    "print(len(valor[32::]),'Hz')"
   ]
  },
  {
   "cell_type": "code",
   "execution_count": 173,
   "id": "a3880204-ea52-4d9f-90c6-34810e96fb92",
   "metadata": {},
   "outputs": [
    {
     "name": "stdout",
     "output_type": "stream",
     "text": [
      "                0\n",
      "0    1.659458e+09\n",
      "2    2.973000e+01\n",
      "4    2.973000e+01\n",
      "6    2.973000e+01\n",
      "8    2.973000e+01\n",
      "..            ...\n",
      "118  2.949000e+01\n",
      "120  2.949000e+01\n",
      "122  2.951000e+01\n",
      "124  2.951000e+01\n",
      "126  2.951000e+01\n",
      "\n",
      "[64 rows x 1 columns]\n",
      "64 Hz\n"
     ]
    }
   ],
   "source": [
    "print(valor[::2])\n",
    "print(len(valor[::2]),'Hz')"
   ]
  },
  {
   "cell_type": "code",
   "execution_count": 151,
   "id": "f354bd97-ef6f-4809-9121-41bf8b31fae0",
   "metadata": {},
   "outputs": [
    {
     "name": "stdout",
     "output_type": "stream",
     "text": [
      "                0\n",
      "0    1.659458e+09\n",
      "4    2.973000e+01\n",
      "8    2.973000e+01\n",
      "12   2.975000e+01\n",
      "16   2.975000e+01\n",
      "20   2.977000e+01\n",
      "24   2.977000e+01\n",
      "28   2.977000e+01\n",
      "32   2.981000e+01\n",
      "36   2.979000e+01\n",
      "40   2.983000e+01\n",
      "44   2.981000e+01\n",
      "48   2.981000e+01\n",
      "52   2.985000e+01\n",
      "56   2.983000e+01\n",
      "60   2.973000e+01\n",
      "64   2.963000e+01\n",
      "68   2.967000e+01\n",
      "72   2.971000e+01\n",
      "76   2.967000e+01\n",
      "80   2.969000e+01\n",
      "84   2.963000e+01\n",
      "88   2.967000e+01\n",
      "92   2.975000e+01\n",
      "96   2.975000e+01\n",
      "100  2.967000e+01\n",
      "104  2.961000e+01\n",
      "108  2.955000e+01\n",
      "112  2.953000e+01\n",
      "116  2.951000e+01\n",
      "120  2.949000e+01\n",
      "124  2.951000e+01\n",
      "32 Hz\n"
     ]
    }
   ],
   "source": [
    "print(valor[::4])\n",
    "print(len(valor[::4]),'Hz')"
   ]
  },
  {
   "cell_type": "code",
   "execution_count": 152,
   "id": "22a41cc8-e5e8-4e3e-9e9d-02a591eda795",
   "metadata": {},
   "outputs": [
    {
     "name": "stdout",
     "output_type": "stream",
     "text": [
      "                0\n",
      "0    1.659458e+09\n",
      "8    2.973000e+01\n",
      "16   2.975000e+01\n",
      "24   2.977000e+01\n",
      "32   2.981000e+01\n",
      "40   2.983000e+01\n",
      "48   2.981000e+01\n",
      "56   2.983000e+01\n",
      "64   2.963000e+01\n",
      "72   2.971000e+01\n",
      "80   2.969000e+01\n",
      "88   2.967000e+01\n",
      "96   2.975000e+01\n",
      "104  2.961000e+01\n",
      "112  2.953000e+01\n",
      "120  2.949000e+01\n",
      "16 Hz\n"
     ]
    }
   ],
   "source": [
    "print(valor[::8])\n",
    "print(len(valor[::8]),'Hz')"
   ]
  },
  {
   "cell_type": "markdown",
   "id": "4215c7c2-3784-41e5-a6e6-24466845a32a",
   "metadata": {},
   "source": [
    "* LifeSenior ACC.csv ARQUIVO UNICO"
   ]
  },
  {
   "cell_type": "code",
   "execution_count": 263,
   "id": "b04a03de-b586-4fdb-8dc9-ace3b96e7dbe",
   "metadata": {},
   "outputs": [],
   "source": [
    "num_atividades = 36     #numero de pessoas na pasta\n",
    "tamanho_vetor = 5120\n",
    "all_data = np.empty((num_atividades, tamanho_vetor))"
   ]
  },
  {
   "cell_type": "code",
   "execution_count": 264,
   "id": "f8537977-5ea1-48af-a57c-a088e126ff9b",
   "metadata": {},
   "outputs": [],
   "source": [
    "pasta = r\"C:\\Users\\Ayalon\\Downloads\\lifesenior-wearable-sim-main\\lifesenior-wearable-sim-main\\lifesenior-dataset\\Participante 1\"\n",
    "arquivos = [arquivos for arquivos in os.walk(pasta)]"
   ]
  },
  {
   "cell_type": "code",
   "execution_count": 265,
   "id": "9a413a7d-de21-430c-8a0c-4af7e0a11972",
   "metadata": {},
   "outputs": [
    {
     "data": {
      "text/plain": [
       "['V1_AVD_A_1',\n",
       " 'V1_AVD_A_2',\n",
       " 'V1_AVD_A_3',\n",
       " 'V1_AVD_A_4',\n",
       " 'V1_AVD_A_5',\n",
       " 'V1_AVD_D_1',\n",
       " 'V1_AVD_D_2',\n",
       " 'V1_AVD_D_3',\n",
       " 'V1_AVD_D_4',\n",
       " 'V1_AVD_D_5',\n",
       " 'V1_AVD_G_1',\n",
       " 'V1_AVD_G_2',\n",
       " 'V1_AVD_G_3',\n",
       " 'V1_AVD_G_4',\n",
       " 'V1_AVD_G_5',\n",
       " 'V1_PDE_A_6',\n",
       " 'V1_PDE_A_7',\n",
       " 'V1_PDE_A_8',\n",
       " 'V1_PDE_A_9',\n",
       " 'V1_PDE_D_6',\n",
       " 'V1_PDE_D_7',\n",
       " 'V1_PDE_D_8',\n",
       " 'V1_PDE_D_9',\n",
       " 'V1_PDE_G_6',\n",
       " 'V1_PDE_G_7',\n",
       " 'V1_PDE_G_8',\n",
       " 'V1_PDE_G_9',\n",
       " 'V1_QD_A_10',\n",
       " 'V1_QD_A_11',\n",
       " 'V1_QD_A_12',\n",
       " 'V1_QD_D_10',\n",
       " 'V1_QD_D_11',\n",
       " 'V1_QD_D_12',\n",
       " 'V1_QD_G_10',\n",
       " 'V1_QD_G_11',\n",
       " 'V1_QD_G_12']"
      ]
     },
     "execution_count": 265,
     "metadata": {},
     "output_type": "execute_result"
    }
   ],
   "source": [
    "arquivos[0][1]"
   ]
  },
  {
   "cell_type": "code",
   "execution_count": 266,
   "id": "bbb81b3e-425e-44d6-9804-8e1d0ffd0ccd",
   "metadata": {},
   "outputs": [
    {
     "name": "stdout",
     "output_type": "stream",
     "text": [
      "Wall time: 133 ms\n"
     ]
    }
   ],
   "source": [
    "%%time\n",
    "cont_colunas = 0\n",
    "for i in range(num_atividades):\n",
    "\n",
    "    file = [ file for file in arquivos[i+1][2] if file.endswith('.csv')]\n",
    "    \n",
    "    # for j in range (1):\n",
    "    #     print(j)\n",
    "    j=0\n",
    "    caminho = arquivos[i+1][0] + \"\\\\\" + file[j]\n",
    "    numerics = pd.read_csv(caminho, header = None, delimiter = \",\")\n",
    "    numerics.columns=[\"a\", \"b\", \"c\"]\n",
    "    tam_vet = len(numerics['a'])\n",
    "    all_data[cont_colunas][:tam_vet] = numerics['a']\n",
    "    cont_colunas = cont_colunas + 1\n",
    "        \n",
    "os.chdir(r\"C:\\Users\\Ayalon\\Downloads\\lifesenior-wearable-sim-main\\lifesenior-wearable-sim-main\\lifesenior-dataset\\Participante 1\")\n",
    "data_df = pd.DataFrame(all_data, index = arquivos[0][1])\n",
    "data_df.to_csv('ACC-X_GERAL.csv', sep = ';', index=True, header=False)"
   ]
  },
  {
   "cell_type": "code",
   "execution_count": 267,
   "id": "1a5502eb-8477-4c01-87d1-17763ceba8bc",
   "metadata": {},
   "outputs": [
    {
     "name": "stdout",
     "output_type": "stream",
     "text": [
      "Wall time: 128 ms\n"
     ]
    }
   ],
   "source": [
    "%%time\n",
    "cont_colunas = 0\n",
    "for i in range(num_atividades):\n",
    "\n",
    "    file = [ file for file in arquivos[i+1][2] if file.endswith('.csv')]\n",
    "    \n",
    "    # for j in range (1):\n",
    "    #     print(j)\n",
    "    j=0\n",
    "    caminho = arquivos[i+1][0] + \"\\\\\" + file[j]\n",
    "    numerics = pd.read_csv(caminho, header = None, delimiter = \",\")\n",
    "    numerics.columns=[\"a\", \"b\", \"c\"]\n",
    "    tam_vet = len(numerics['b'])\n",
    "    all_data[cont_colunas][:tam_vet] = numerics['b']\n",
    "    cont_colunas = cont_colunas + 1\n",
    "        \n",
    "os.chdir(r\"C:\\Users\\Ayalon\\Downloads\\lifesenior-wearable-sim-main\\lifesenior-wearable-sim-main\\lifesenior-dataset\\Participante 1\")\n",
    "data_df = pd.DataFrame(all_data, index = arquivos[0][1])\n",
    "data_df.to_csv('ACC-Y_GERAL.csv', sep = ';', index=True, header=False)"
   ]
  },
  {
   "cell_type": "code",
   "execution_count": 268,
   "id": "93e193db-d01a-4e73-9fd1-46752f352690",
   "metadata": {},
   "outputs": [
    {
     "name": "stdout",
     "output_type": "stream",
     "text": [
      "Wall time: 125 ms\n"
     ]
    }
   ],
   "source": [
    "%%time\n",
    "cont_colunas = 0\n",
    "for i in range(num_atividades):\n",
    "\n",
    "    file = [ file for file in arquivos[i+1][2] if file.endswith('.csv')]\n",
    "    \n",
    "    # for j in range (1):\n",
    "    #     print(j)\n",
    "    j=0\n",
    "    caminho = arquivos[i+1][0] + \"\\\\\" + file[j]\n",
    "    numerics = pd.read_csv(caminho, header = None, delimiter = \",\")\n",
    "    numerics.columns=[\"a\", \"b\", \"c\"]\n",
    "    tam_vet = len(numerics['c'])\n",
    "    all_data[cont_colunas][:tam_vet] = numerics['c']\n",
    "    cont_colunas = cont_colunas + 1\n",
    "        \n",
    "os.chdir(r\"C:\\Users\\Ayalon\\Downloads\\lifesenior-wearable-sim-main\\lifesenior-wearable-sim-main\\lifesenior-dataset\\Participante 1\")\n",
    "data_df = pd.DataFrame(all_data, index = arquivos[0][1])\n",
    "data_df.to_csv('ACC-Z_GERAL.csv', sep = ';', index=True, header=False)"
   ]
  },
  {
   "cell_type": "markdown",
   "id": "4b209aab-687c-4e7f-9c86-5ad901e45cc1",
   "metadata": {},
   "source": [
    "* LifeSenior BVP.csv ARQUIVO UNICO"
   ]
  },
  {
   "cell_type": "code",
   "execution_count": 269,
   "id": "4c7e4b9c-0d26-4998-80da-e5088bb9933a",
   "metadata": {},
   "outputs": [],
   "source": [
    "num_atividades = 36     #numero de pessoas na pasta\n",
    "tamanho_vetor = 10000\n",
    "all_data = np.empty((num_atividades, tamanho_vetor))\n",
    "pasta = r\"C:\\Users\\Ayalon\\Downloads\\lifesenior-wearable-sim-main\\lifesenior-wearable-sim-main\\lifesenior-dataset\\Participante 1\"\n",
    "arquivos = [arquivos for arquivos in os.walk(pasta)]"
   ]
  },
  {
   "cell_type": "code",
   "execution_count": 270,
   "id": "39cb5fc0-9cc5-4e31-9616-d1ca9dd80661",
   "metadata": {},
   "outputs": [
    {
     "data": {
      "text/plain": [
       "['V1_AVD_A_1',\n",
       " 'V1_AVD_A_2',\n",
       " 'V1_AVD_A_3',\n",
       " 'V1_AVD_A_4',\n",
       " 'V1_AVD_A_5',\n",
       " 'V1_AVD_D_1',\n",
       " 'V1_AVD_D_2',\n",
       " 'V1_AVD_D_3',\n",
       " 'V1_AVD_D_4',\n",
       " 'V1_AVD_D_5',\n",
       " 'V1_AVD_G_1',\n",
       " 'V1_AVD_G_2',\n",
       " 'V1_AVD_G_3',\n",
       " 'V1_AVD_G_4',\n",
       " 'V1_AVD_G_5',\n",
       " 'V1_PDE_A_6',\n",
       " 'V1_PDE_A_7',\n",
       " 'V1_PDE_A_8',\n",
       " 'V1_PDE_A_9',\n",
       " 'V1_PDE_D_6',\n",
       " 'V1_PDE_D_7',\n",
       " 'V1_PDE_D_8',\n",
       " 'V1_PDE_D_9',\n",
       " 'V1_PDE_G_6',\n",
       " 'V1_PDE_G_7',\n",
       " 'V1_PDE_G_8',\n",
       " 'V1_PDE_G_9',\n",
       " 'V1_QD_A_10',\n",
       " 'V1_QD_A_11',\n",
       " 'V1_QD_A_12',\n",
       " 'V1_QD_D_10',\n",
       " 'V1_QD_D_11',\n",
       " 'V1_QD_D_12',\n",
       " 'V1_QD_G_10',\n",
       " 'V1_QD_G_11',\n",
       " 'V1_QD_G_12']"
      ]
     },
     "execution_count": 270,
     "metadata": {},
     "output_type": "execute_result"
    }
   ],
   "source": [
    "arquivos[0][1]"
   ]
  },
  {
   "cell_type": "code",
   "execution_count": 271,
   "id": "a49e822f-dfa2-4197-b491-aa472af813be",
   "metadata": {},
   "outputs": [
    {
     "name": "stdout",
     "output_type": "stream",
     "text": [
      "Wall time: 246 ms\n"
     ]
    }
   ],
   "source": [
    "%%time\n",
    "cont_colunas = 0\n",
    "for i in range(num_atividades):\n",
    "\n",
    "    file = [ file for file in arquivos[i+1][2] if file.endswith('.csv')]\n",
    "    \n",
    "    # for j in range (1):\n",
    "    #     print(j)\n",
    "    j=1\n",
    "    caminho = arquivos[i+1][0] + \"\\\\\" + file[j]\n",
    "    numerics = pd.read_csv(caminho, header = None, delimiter = \",\")\n",
    "    numerics.columns=[\"a\"]\n",
    "    tam_vet = len(numerics['a'])\n",
    "    all_data[cont_colunas][:tam_vet] = numerics['a']\n",
    "    cont_colunas = cont_colunas + 1\n",
    "        \n",
    "os.chdir(r\"C:\\Users\\Ayalon\\Downloads\\lifesenior-wearable-sim-main\\lifesenior-wearable-sim-main\\lifesenior-dataset\\Participante 1\")\n",
    "data_df = pd.DataFrame(all_data, index = arquivos[0][1])\n",
    "data_df.to_csv('BVP_GERAL.csv', sep = ';', index=True, header=False)"
   ]
  },
  {
   "cell_type": "markdown",
   "id": "acbfd7fe-3b0d-4109-ab1a-d3dfdca4abbc",
   "metadata": {},
   "source": [
    "* LifeSenior EDA.csv ARQUIVO UNICO"
   ]
  },
  {
   "cell_type": "code",
   "execution_count": 272,
   "id": "bbc741f3-1a42-4cdf-9ff7-3bc43f289a28",
   "metadata": {},
   "outputs": [],
   "source": [
    "num_atividades = 36     #numero de pessoas na pasta\n",
    "tamanho_vetor = 10000\n",
    "all_data = np.empty((num_atividades, tamanho_vetor))\n",
    "pasta = r\"C:\\Users\\Ayalon\\Downloads\\lifesenior-wearable-sim-main\\lifesenior-wearable-sim-main\\lifesenior-dataset\\Participante 1\"\n",
    "arquivos = [arquivos for arquivos in os.walk(pasta)]"
   ]
  },
  {
   "cell_type": "code",
   "execution_count": 273,
   "id": "4cc9eb5f-2b8c-411b-98ea-003cc4b3d6c8",
   "metadata": {},
   "outputs": [
    {
     "data": {
      "text/plain": [
       "['V1_AVD_A_1',\n",
       " 'V1_AVD_A_2',\n",
       " 'V1_AVD_A_3',\n",
       " 'V1_AVD_A_4',\n",
       " 'V1_AVD_A_5',\n",
       " 'V1_AVD_D_1',\n",
       " 'V1_AVD_D_2',\n",
       " 'V1_AVD_D_3',\n",
       " 'V1_AVD_D_4',\n",
       " 'V1_AVD_D_5',\n",
       " 'V1_AVD_G_1',\n",
       " 'V1_AVD_G_2',\n",
       " 'V1_AVD_G_3',\n",
       " 'V1_AVD_G_4',\n",
       " 'V1_AVD_G_5',\n",
       " 'V1_PDE_A_6',\n",
       " 'V1_PDE_A_7',\n",
       " 'V1_PDE_A_8',\n",
       " 'V1_PDE_A_9',\n",
       " 'V1_PDE_D_6',\n",
       " 'V1_PDE_D_7',\n",
       " 'V1_PDE_D_8',\n",
       " 'V1_PDE_D_9',\n",
       " 'V1_PDE_G_6',\n",
       " 'V1_PDE_G_7',\n",
       " 'V1_PDE_G_8',\n",
       " 'V1_PDE_G_9',\n",
       " 'V1_QD_A_10',\n",
       " 'V1_QD_A_11',\n",
       " 'V1_QD_A_12',\n",
       " 'V1_QD_D_10',\n",
       " 'V1_QD_D_11',\n",
       " 'V1_QD_D_12',\n",
       " 'V1_QD_G_10',\n",
       " 'V1_QD_G_11',\n",
       " 'V1_QD_G_12']"
      ]
     },
     "execution_count": 273,
     "metadata": {},
     "output_type": "execute_result"
    }
   ],
   "source": [
    "arquivos[0][1]"
   ]
  },
  {
   "cell_type": "code",
   "execution_count": 274,
   "id": "09453cd6-6ba6-41ae-af59-7f4177100e63",
   "metadata": {},
   "outputs": [
    {
     "name": "stdout",
     "output_type": "stream",
     "text": [
      "Wall time: 202 ms\n"
     ]
    }
   ],
   "source": [
    "%%time\n",
    "cont_colunas = 0\n",
    "for i in range(num_atividades):\n",
    "\n",
    "    file = [ file for file in arquivos[i+1][2] if file.endswith('.csv')]\n",
    "    \n",
    "    # for j in range (1):\n",
    "    #     print(j)\n",
    "    j=2\n",
    "    caminho = arquivos[i+1][0] + \"\\\\\" + file[j]\n",
    "    numerics = pd.read_csv(caminho, header = None, delimiter = \",\")\n",
    "    numerics.columns=[\"a\"]\n",
    "    tam_vet = len(numerics['a'])\n",
    "    all_data[cont_colunas][:tam_vet] = numerics['a']\n",
    "    cont_colunas = cont_colunas + 1\n",
    "        \n",
    "os.chdir(r\"C:\\Users\\Ayalon\\Downloads\\lifesenior-wearable-sim-main\\lifesenior-wearable-sim-main\\lifesenior-dataset\\Participante 1\")\n",
    "data_df = pd.DataFrame(all_data, index = arquivos[0][1])\n",
    "data_df.to_csv('EDA_GERAL.csv', sep = ';', index=True, header=False)"
   ]
  },
  {
   "cell_type": "markdown",
   "id": "c1297772-9b4b-43a9-8971-fc8d818d96a0",
   "metadata": {},
   "source": [
    "* LifeSenior HR.csv ARQUIVO UNICO"
   ]
  },
  {
   "cell_type": "code",
   "execution_count": 275,
   "id": "b7da78c3-7350-4c49-9f4a-f72ca71101d6",
   "metadata": {},
   "outputs": [],
   "source": [
    "num_atividades = 36     #numero de pessoas na pasta\n",
    "tamanho_vetor = 10000\n",
    "all_data = np.empty((num_atividades, tamanho_vetor))\n",
    "pasta = r\"C:\\Users\\Ayalon\\Downloads\\lifesenior-wearable-sim-main\\lifesenior-wearable-sim-main\\lifesenior-dataset\\Participante 1\"\n",
    "arquivos = [arquivos for arquivos in os.walk(pasta)]"
   ]
  },
  {
   "cell_type": "code",
   "execution_count": 276,
   "id": "9759419c-bdad-41f4-9d53-42565bf1aab2",
   "metadata": {},
   "outputs": [
    {
     "data": {
      "text/plain": [
       "['V1_AVD_A_1',\n",
       " 'V1_AVD_A_2',\n",
       " 'V1_AVD_A_3',\n",
       " 'V1_AVD_A_4',\n",
       " 'V1_AVD_A_5',\n",
       " 'V1_AVD_D_1',\n",
       " 'V1_AVD_D_2',\n",
       " 'V1_AVD_D_3',\n",
       " 'V1_AVD_D_4',\n",
       " 'V1_AVD_D_5',\n",
       " 'V1_AVD_G_1',\n",
       " 'V1_AVD_G_2',\n",
       " 'V1_AVD_G_3',\n",
       " 'V1_AVD_G_4',\n",
       " 'V1_AVD_G_5',\n",
       " 'V1_PDE_A_6',\n",
       " 'V1_PDE_A_7',\n",
       " 'V1_PDE_A_8',\n",
       " 'V1_PDE_A_9',\n",
       " 'V1_PDE_D_6',\n",
       " 'V1_PDE_D_7',\n",
       " 'V1_PDE_D_8',\n",
       " 'V1_PDE_D_9',\n",
       " 'V1_PDE_G_6',\n",
       " 'V1_PDE_G_7',\n",
       " 'V1_PDE_G_8',\n",
       " 'V1_PDE_G_9',\n",
       " 'V1_QD_A_10',\n",
       " 'V1_QD_A_11',\n",
       " 'V1_QD_A_12',\n",
       " 'V1_QD_D_10',\n",
       " 'V1_QD_D_11',\n",
       " 'V1_QD_D_12',\n",
       " 'V1_QD_G_10',\n",
       " 'V1_QD_G_11',\n",
       " 'V1_QD_G_12']"
      ]
     },
     "execution_count": 276,
     "metadata": {},
     "output_type": "execute_result"
    }
   ],
   "source": [
    "arquivos[0][1]"
   ]
  },
  {
   "cell_type": "code",
   "execution_count": 277,
   "id": "52f81c2d-2ff5-4c89-a615-6fdf130fbb2e",
   "metadata": {},
   "outputs": [
    {
     "name": "stdout",
     "output_type": "stream",
     "text": [
      "Wall time: 201 ms\n"
     ]
    }
   ],
   "source": [
    "%%time\n",
    "cont_colunas = 0\n",
    "for i in range(num_atividades):\n",
    "\n",
    "    file = [ file for file in arquivos[i+1][2] if file.endswith('.csv')]\n",
    "    \n",
    "    # for j in range (1):\n",
    "    #     print(j)\n",
    "    j=3\n",
    "    caminho = arquivos[i+1][0] + \"\\\\\" + file[j]\n",
    "    numerics = pd.read_csv(caminho, header = None, delimiter = \",\")\n",
    "    numerics.columns=[\"a\"]\n",
    "    tam_vet = len(numerics['a'])\n",
    "    all_data[cont_colunas][:tam_vet] = numerics['a']\n",
    "    cont_colunas = cont_colunas + 1\n",
    "        \n",
    "os.chdir(r\"C:\\Users\\Ayalon\\Downloads\\lifesenior-wearable-sim-main\\lifesenior-wearable-sim-main\\lifesenior-dataset\\Participante 1\")\n",
    "data_df = pd.DataFrame(all_data, index = arquivos[0][1])\n",
    "data_df.to_csv('HR_GERAL.csv', sep = ';', index=True, header=False)"
   ]
  },
  {
   "cell_type": "markdown",
   "id": "dbbdde73-e7df-434e-b0df-c58e87fc0521",
   "metadata": {},
   "source": [
    "* LifeSenior TEMP.csv ARQUIVO UNICO"
   ]
  },
  {
   "cell_type": "code",
   "execution_count": 278,
   "id": "bf41ee05-d73f-4dfb-bdfb-ab1503d459cb",
   "metadata": {},
   "outputs": [],
   "source": [
    "num_atividades = 36     #numero de pessoas na pasta\n",
    "tamanho_vetor = 10000\n",
    "all_data = np.empty((num_atividades, tamanho_vetor))\n",
    "pasta = r\"C:\\Users\\Ayalon\\Downloads\\lifesenior-wearable-sim-main\\lifesenior-wearable-sim-main\\lifesenior-dataset\\Participante 1\"\n",
    "arquivos = [arquivos for arquivos in os.walk(pasta)]"
   ]
  },
  {
   "cell_type": "code",
   "execution_count": 279,
   "id": "e45734cf-56af-4f4a-975c-41711c96e433",
   "metadata": {},
   "outputs": [
    {
     "data": {
      "text/plain": [
       "['V1_AVD_A_1',\n",
       " 'V1_AVD_A_2',\n",
       " 'V1_AVD_A_3',\n",
       " 'V1_AVD_A_4',\n",
       " 'V1_AVD_A_5',\n",
       " 'V1_AVD_D_1',\n",
       " 'V1_AVD_D_2',\n",
       " 'V1_AVD_D_3',\n",
       " 'V1_AVD_D_4',\n",
       " 'V1_AVD_D_5',\n",
       " 'V1_AVD_G_1',\n",
       " 'V1_AVD_G_2',\n",
       " 'V1_AVD_G_3',\n",
       " 'V1_AVD_G_4',\n",
       " 'V1_AVD_G_5',\n",
       " 'V1_PDE_A_6',\n",
       " 'V1_PDE_A_7',\n",
       " 'V1_PDE_A_8',\n",
       " 'V1_PDE_A_9',\n",
       " 'V1_PDE_D_6',\n",
       " 'V1_PDE_D_7',\n",
       " 'V1_PDE_D_8',\n",
       " 'V1_PDE_D_9',\n",
       " 'V1_PDE_G_6',\n",
       " 'V1_PDE_G_7',\n",
       " 'V1_PDE_G_8',\n",
       " 'V1_PDE_G_9',\n",
       " 'V1_QD_A_10',\n",
       " 'V1_QD_A_11',\n",
       " 'V1_QD_A_12',\n",
       " 'V1_QD_D_10',\n",
       " 'V1_QD_D_11',\n",
       " 'V1_QD_D_12',\n",
       " 'V1_QD_G_10',\n",
       " 'V1_QD_G_11',\n",
       " 'V1_QD_G_12']"
      ]
     },
     "execution_count": 279,
     "metadata": {},
     "output_type": "execute_result"
    }
   ],
   "source": [
    "arquivos[0][1]"
   ]
  },
  {
   "cell_type": "code",
   "execution_count": 280,
   "id": "6807bc51-9e04-4a94-ad23-ed9f7be88af7",
   "metadata": {},
   "outputs": [
    {
     "name": "stdout",
     "output_type": "stream",
     "text": [
      "Wall time: 203 ms\n"
     ]
    }
   ],
   "source": [
    "%%time\n",
    "cont_colunas = 0\n",
    "for i in range(num_atividades):\n",
    "\n",
    "    file = [ file for file in arquivos[i+1][2] if file.endswith('.csv')]\n",
    "    \n",
    "    # for j in range (1):\n",
    "    #     print(j)\n",
    "    j=6\n",
    "    caminho = arquivos[i+1][0] + \"\\\\\" + file[j]\n",
    "    numerics = pd.read_csv(caminho, header = None, delimiter = \",\")\n",
    "    numerics.columns=[\"a\"]\n",
    "    tam_vet = len(numerics['a'])\n",
    "    all_data[cont_colunas][:tam_vet] = numerics['a']\n",
    "    cont_colunas = cont_colunas + 1\n",
    "        \n",
    "os.chdir(r\"C:\\Users\\Ayalon\\Downloads\\lifesenior-wearable-sim-main\\lifesenior-wearable-sim-main\\lifesenior-dataset\\Participante 1\")\n",
    "data_df = pd.DataFrame(all_data, index = arquivos[0][1])\n",
    "data_df.to_csv('TEMP_GERAL.csv', sep = ';', index=True, header=False)"
   ]
  },
  {
   "cell_type": "code",
   "execution_count": 257,
   "id": "a39d199e-dd56-4dbf-9483-9a9d582b5a23",
   "metadata": {},
   "outputs": [],
   "source": [
    "num_atividades = 1     #numero de pessoas na pasta\n",
    "tamanho_vetor = 10000\n",
    "all_data = np.empty((1, tamanho_vetor))\n",
    "pasta = r\"C:\\Users\\Ayalon\\Downloads\\lifesenior-wearable-sim-main\\lifesenior-wearable-sim-main\\lifesenior-dataset\\Participante 1\"\n",
    "arquivos = [arquivos for arquivos in os.walk(pasta)]"
   ]
  },
  {
   "cell_type": "code",
   "execution_count": 258,
   "id": "eceaf4a1-0d85-415c-b9b4-9d47cb782dbf",
   "metadata": {},
   "outputs": [
    {
     "data": {
      "text/plain": [
       "'C:\\\\Users\\\\Ayalon\\\\Downloads\\\\lifesenior-wearable-sim-main\\\\lifesenior-wearable-sim-main\\\\lifesenior-dataset\\\\Participante 1'"
      ]
     },
     "execution_count": 258,
     "metadata": {},
     "output_type": "execute_result"
    }
   ],
   "source": [
    "arquivos[0][0]"
   ]
  },
  {
   "cell_type": "code",
   "execution_count": 261,
   "id": "b8fbc694-065d-4498-bf5f-5817c2146bd5",
   "metadata": {},
   "outputs": [
    {
     "name": "stdout",
     "output_type": "stream",
     "text": [
      "Wall time: 619 ms\n"
     ]
    }
   ],
   "source": [
    "%%time\n",
    "cont_colunas = 0\n",
    "\n",
    "file = [ file for file in arquivos[0][2] if file.endswith('.csv')]\n",
    "\n",
    "j=6\n",
    "caminho = arquivos[0][0] + \"\\\\\" + file[j]\n",
    "numerics = pd.read_csv(caminho, delimiter = \";\")\n",
    "\n"
   ]
  },
  {
   "cell_type": "code",
   "execution_count": 262,
   "id": "77b8564b-a738-42ce-83cd-db9815c5b627",
   "metadata": {},
   "outputs": [
    {
     "data": {
      "text/html": [
       "<div>\n",
       "<style scoped>\n",
       "    .dataframe tbody tr th:only-of-type {\n",
       "        vertical-align: middle;\n",
       "    }\n",
       "\n",
       "    .dataframe tbody tr th {\n",
       "        vertical-align: top;\n",
       "    }\n",
       "\n",
       "    .dataframe thead th {\n",
       "        text-align: right;\n",
       "    }\n",
       "</style>\n",
       "<table border=\"1\" class=\"dataframe\">\n",
       "  <thead>\n",
       "    <tr style=\"text-align: right;\">\n",
       "      <th></th>\n",
       "      <th>V1_AVD_A_1</th>\n",
       "      <th>1659458367.0</th>\n",
       "      <th>4.0</th>\n",
       "      <th>29.73</th>\n",
       "      <th>29.73.1</th>\n",
       "      <th>29.73.2</th>\n",
       "      <th>29.73.3</th>\n",
       "      <th>29.73.4</th>\n",
       "      <th>29.73.5</th>\n",
       "      <th>29.73.6</th>\n",
       "      <th>...</th>\n",
       "      <th>0.0.9732</th>\n",
       "      <th>0.0.9733</th>\n",
       "      <th>0.0.9734</th>\n",
       "      <th>0.0.9735</th>\n",
       "      <th>0.0.9736</th>\n",
       "      <th>0.0.9737</th>\n",
       "      <th>0.0.9738</th>\n",
       "      <th>0.0.9739</th>\n",
       "      <th>0.0.9740</th>\n",
       "      <th>0.0.9741</th>\n",
       "    </tr>\n",
       "  </thead>\n",
       "  <tbody>\n",
       "    <tr>\n",
       "      <th>0</th>\n",
       "      <td>V1_AVD_A_2</td>\n",
       "      <td>1.659459e+09</td>\n",
       "      <td>4.0</td>\n",
       "      <td>29.79</td>\n",
       "      <td>29.79</td>\n",
       "      <td>29.79</td>\n",
       "      <td>29.79</td>\n",
       "      <td>29.79</td>\n",
       "      <td>29.79</td>\n",
       "      <td>29.79</td>\n",
       "      <td>...</td>\n",
       "      <td>0.0</td>\n",
       "      <td>0.0</td>\n",
       "      <td>0.0</td>\n",
       "      <td>0.0</td>\n",
       "      <td>0.0</td>\n",
       "      <td>0.0</td>\n",
       "      <td>0.0</td>\n",
       "      <td>0.0</td>\n",
       "      <td>0.0</td>\n",
       "      <td>0.0</td>\n",
       "    </tr>\n",
       "    <tr>\n",
       "      <th>1</th>\n",
       "      <td>V1_AVD_A_3</td>\n",
       "      <td>1.659459e+09</td>\n",
       "      <td>4.0</td>\n",
       "      <td>29.53</td>\n",
       "      <td>29.53</td>\n",
       "      <td>29.53</td>\n",
       "      <td>29.53</td>\n",
       "      <td>29.53</td>\n",
       "      <td>29.53</td>\n",
       "      <td>29.53</td>\n",
       "      <td>...</td>\n",
       "      <td>0.0</td>\n",
       "      <td>0.0</td>\n",
       "      <td>0.0</td>\n",
       "      <td>0.0</td>\n",
       "      <td>0.0</td>\n",
       "      <td>0.0</td>\n",
       "      <td>0.0</td>\n",
       "      <td>0.0</td>\n",
       "      <td>0.0</td>\n",
       "      <td>0.0</td>\n",
       "    </tr>\n",
       "    <tr>\n",
       "      <th>2</th>\n",
       "      <td>V1_AVD_A_4</td>\n",
       "      <td>1.659460e+09</td>\n",
       "      <td>4.0</td>\n",
       "      <td>29.27</td>\n",
       "      <td>29.27</td>\n",
       "      <td>29.27</td>\n",
       "      <td>29.27</td>\n",
       "      <td>29.27</td>\n",
       "      <td>29.27</td>\n",
       "      <td>29.27</td>\n",
       "      <td>...</td>\n",
       "      <td>0.0</td>\n",
       "      <td>0.0</td>\n",
       "      <td>0.0</td>\n",
       "      <td>0.0</td>\n",
       "      <td>0.0</td>\n",
       "      <td>0.0</td>\n",
       "      <td>0.0</td>\n",
       "      <td>0.0</td>\n",
       "      <td>0.0</td>\n",
       "      <td>0.0</td>\n",
       "    </tr>\n",
       "    <tr>\n",
       "      <th>3</th>\n",
       "      <td>V1_AVD_A_5</td>\n",
       "      <td>1.659460e+09</td>\n",
       "      <td>4.0</td>\n",
       "      <td>28.91</td>\n",
       "      <td>28.91</td>\n",
       "      <td>28.91</td>\n",
       "      <td>28.91</td>\n",
       "      <td>28.91</td>\n",
       "      <td>28.91</td>\n",
       "      <td>28.91</td>\n",
       "      <td>...</td>\n",
       "      <td>0.0</td>\n",
       "      <td>0.0</td>\n",
       "      <td>0.0</td>\n",
       "      <td>0.0</td>\n",
       "      <td>0.0</td>\n",
       "      <td>0.0</td>\n",
       "      <td>0.0</td>\n",
       "      <td>0.0</td>\n",
       "      <td>0.0</td>\n",
       "      <td>0.0</td>\n",
       "    </tr>\n",
       "    <tr>\n",
       "      <th>4</th>\n",
       "      <td>V1_AVD_D_1</td>\n",
       "      <td>1.659458e+09</td>\n",
       "      <td>4.0</td>\n",
       "      <td>29.61</td>\n",
       "      <td>29.61</td>\n",
       "      <td>29.61</td>\n",
       "      <td>29.61</td>\n",
       "      <td>29.61</td>\n",
       "      <td>29.61</td>\n",
       "      <td>29.61</td>\n",
       "      <td>...</td>\n",
       "      <td>0.0</td>\n",
       "      <td>0.0</td>\n",
       "      <td>0.0</td>\n",
       "      <td>0.0</td>\n",
       "      <td>0.0</td>\n",
       "      <td>0.0</td>\n",
       "      <td>0.0</td>\n",
       "      <td>0.0</td>\n",
       "      <td>0.0</td>\n",
       "      <td>0.0</td>\n",
       "    </tr>\n",
       "    <tr>\n",
       "      <th>5</th>\n",
       "      <td>V1_AVD_D_2</td>\n",
       "      <td>1.659459e+09</td>\n",
       "      <td>4.0</td>\n",
       "      <td>29.79</td>\n",
       "      <td>29.79</td>\n",
       "      <td>29.79</td>\n",
       "      <td>29.79</td>\n",
       "      <td>29.79</td>\n",
       "      <td>29.79</td>\n",
       "      <td>29.79</td>\n",
       "      <td>...</td>\n",
       "      <td>0.0</td>\n",
       "      <td>0.0</td>\n",
       "      <td>0.0</td>\n",
       "      <td>0.0</td>\n",
       "      <td>0.0</td>\n",
       "      <td>0.0</td>\n",
       "      <td>0.0</td>\n",
       "      <td>0.0</td>\n",
       "      <td>0.0</td>\n",
       "      <td>0.0</td>\n",
       "    </tr>\n",
       "    <tr>\n",
       "      <th>6</th>\n",
       "      <td>V1_AVD_D_3</td>\n",
       "      <td>1.659459e+09</td>\n",
       "      <td>4.0</td>\n",
       "      <td>29.37</td>\n",
       "      <td>29.37</td>\n",
       "      <td>29.37</td>\n",
       "      <td>29.37</td>\n",
       "      <td>29.37</td>\n",
       "      <td>29.37</td>\n",
       "      <td>29.37</td>\n",
       "      <td>...</td>\n",
       "      <td>0.0</td>\n",
       "      <td>0.0</td>\n",
       "      <td>0.0</td>\n",
       "      <td>0.0</td>\n",
       "      <td>0.0</td>\n",
       "      <td>0.0</td>\n",
       "      <td>0.0</td>\n",
       "      <td>0.0</td>\n",
       "      <td>0.0</td>\n",
       "      <td>0.0</td>\n",
       "    </tr>\n",
       "    <tr>\n",
       "      <th>7</th>\n",
       "      <td>V1_AVD_D_4</td>\n",
       "      <td>1.659460e+09</td>\n",
       "      <td>4.0</td>\n",
       "      <td>29.25</td>\n",
       "      <td>29.25</td>\n",
       "      <td>29.25</td>\n",
       "      <td>29.25</td>\n",
       "      <td>29.25</td>\n",
       "      <td>29.25</td>\n",
       "      <td>29.25</td>\n",
       "      <td>...</td>\n",
       "      <td>0.0</td>\n",
       "      <td>0.0</td>\n",
       "      <td>0.0</td>\n",
       "      <td>0.0</td>\n",
       "      <td>0.0</td>\n",
       "      <td>0.0</td>\n",
       "      <td>0.0</td>\n",
       "      <td>0.0</td>\n",
       "      <td>0.0</td>\n",
       "      <td>0.0</td>\n",
       "    </tr>\n",
       "    <tr>\n",
       "      <th>8</th>\n",
       "      <td>V1_AVD_D_5</td>\n",
       "      <td>1.659460e+09</td>\n",
       "      <td>4.0</td>\n",
       "      <td>28.83</td>\n",
       "      <td>28.83</td>\n",
       "      <td>28.83</td>\n",
       "      <td>28.83</td>\n",
       "      <td>28.83</td>\n",
       "      <td>28.83</td>\n",
       "      <td>28.83</td>\n",
       "      <td>...</td>\n",
       "      <td>0.0</td>\n",
       "      <td>0.0</td>\n",
       "      <td>0.0</td>\n",
       "      <td>0.0</td>\n",
       "      <td>0.0</td>\n",
       "      <td>0.0</td>\n",
       "      <td>0.0</td>\n",
       "      <td>0.0</td>\n",
       "      <td>0.0</td>\n",
       "      <td>0.0</td>\n",
       "    </tr>\n",
       "    <tr>\n",
       "      <th>9</th>\n",
       "      <td>V1_AVD_G_1</td>\n",
       "      <td>1.659459e+09</td>\n",
       "      <td>4.0</td>\n",
       "      <td>29.95</td>\n",
       "      <td>29.95</td>\n",
       "      <td>29.95</td>\n",
       "      <td>29.95</td>\n",
       "      <td>29.95</td>\n",
       "      <td>29.95</td>\n",
       "      <td>29.95</td>\n",
       "      <td>...</td>\n",
       "      <td>0.0</td>\n",
       "      <td>0.0</td>\n",
       "      <td>0.0</td>\n",
       "      <td>0.0</td>\n",
       "      <td>0.0</td>\n",
       "      <td>0.0</td>\n",
       "      <td>0.0</td>\n",
       "      <td>0.0</td>\n",
       "      <td>0.0</td>\n",
       "      <td>0.0</td>\n",
       "    </tr>\n",
       "    <tr>\n",
       "      <th>10</th>\n",
       "      <td>V1_AVD_G_2</td>\n",
       "      <td>1.659459e+09</td>\n",
       "      <td>4.0</td>\n",
       "      <td>29.71</td>\n",
       "      <td>29.71</td>\n",
       "      <td>29.71</td>\n",
       "      <td>29.71</td>\n",
       "      <td>29.71</td>\n",
       "      <td>29.71</td>\n",
       "      <td>29.71</td>\n",
       "      <td>...</td>\n",
       "      <td>0.0</td>\n",
       "      <td>0.0</td>\n",
       "      <td>0.0</td>\n",
       "      <td>0.0</td>\n",
       "      <td>0.0</td>\n",
       "      <td>0.0</td>\n",
       "      <td>0.0</td>\n",
       "      <td>0.0</td>\n",
       "      <td>0.0</td>\n",
       "      <td>0.0</td>\n",
       "    </tr>\n",
       "    <tr>\n",
       "      <th>11</th>\n",
       "      <td>V1_AVD_G_3</td>\n",
       "      <td>1.659459e+09</td>\n",
       "      <td>4.0</td>\n",
       "      <td>29.35</td>\n",
       "      <td>29.35</td>\n",
       "      <td>29.35</td>\n",
       "      <td>29.35</td>\n",
       "      <td>29.35</td>\n",
       "      <td>29.35</td>\n",
       "      <td>29.35</td>\n",
       "      <td>...</td>\n",
       "      <td>0.0</td>\n",
       "      <td>0.0</td>\n",
       "      <td>0.0</td>\n",
       "      <td>0.0</td>\n",
       "      <td>0.0</td>\n",
       "      <td>0.0</td>\n",
       "      <td>0.0</td>\n",
       "      <td>0.0</td>\n",
       "      <td>0.0</td>\n",
       "      <td>0.0</td>\n",
       "    </tr>\n",
       "    <tr>\n",
       "      <th>12</th>\n",
       "      <td>V1_AVD_G_4</td>\n",
       "      <td>1.659460e+09</td>\n",
       "      <td>4.0</td>\n",
       "      <td>29.15</td>\n",
       "      <td>29.15</td>\n",
       "      <td>29.15</td>\n",
       "      <td>29.15</td>\n",
       "      <td>29.15</td>\n",
       "      <td>29.15</td>\n",
       "      <td>29.15</td>\n",
       "      <td>...</td>\n",
       "      <td>0.0</td>\n",
       "      <td>0.0</td>\n",
       "      <td>0.0</td>\n",
       "      <td>0.0</td>\n",
       "      <td>0.0</td>\n",
       "      <td>0.0</td>\n",
       "      <td>0.0</td>\n",
       "      <td>0.0</td>\n",
       "      <td>0.0</td>\n",
       "      <td>0.0</td>\n",
       "    </tr>\n",
       "    <tr>\n",
       "      <th>13</th>\n",
       "      <td>V1_AVD_G_5</td>\n",
       "      <td>1.659461e+09</td>\n",
       "      <td>4.0</td>\n",
       "      <td>28.73</td>\n",
       "      <td>28.73</td>\n",
       "      <td>28.73</td>\n",
       "      <td>28.73</td>\n",
       "      <td>28.73</td>\n",
       "      <td>28.73</td>\n",
       "      <td>28.73</td>\n",
       "      <td>...</td>\n",
       "      <td>0.0</td>\n",
       "      <td>0.0</td>\n",
       "      <td>0.0</td>\n",
       "      <td>0.0</td>\n",
       "      <td>0.0</td>\n",
       "      <td>0.0</td>\n",
       "      <td>0.0</td>\n",
       "      <td>0.0</td>\n",
       "      <td>0.0</td>\n",
       "      <td>0.0</td>\n",
       "    </tr>\n",
       "    <tr>\n",
       "      <th>14</th>\n",
       "      <td>V1_PDE_A_6</td>\n",
       "      <td>1.659461e+09</td>\n",
       "      <td>4.0</td>\n",
       "      <td>28.41</td>\n",
       "      <td>28.41</td>\n",
       "      <td>28.41</td>\n",
       "      <td>28.41</td>\n",
       "      <td>28.41</td>\n",
       "      <td>28.41</td>\n",
       "      <td>28.41</td>\n",
       "      <td>...</td>\n",
       "      <td>0.0</td>\n",
       "      <td>0.0</td>\n",
       "      <td>0.0</td>\n",
       "      <td>0.0</td>\n",
       "      <td>0.0</td>\n",
       "      <td>0.0</td>\n",
       "      <td>0.0</td>\n",
       "      <td>0.0</td>\n",
       "      <td>0.0</td>\n",
       "      <td>0.0</td>\n",
       "    </tr>\n",
       "    <tr>\n",
       "      <th>15</th>\n",
       "      <td>V1_PDE_A_7</td>\n",
       "      <td>1.659461e+09</td>\n",
       "      <td>4.0</td>\n",
       "      <td>28.29</td>\n",
       "      <td>28.29</td>\n",
       "      <td>28.29</td>\n",
       "      <td>28.29</td>\n",
       "      <td>28.29</td>\n",
       "      <td>28.29</td>\n",
       "      <td>28.29</td>\n",
       "      <td>...</td>\n",
       "      <td>0.0</td>\n",
       "      <td>0.0</td>\n",
       "      <td>0.0</td>\n",
       "      <td>0.0</td>\n",
       "      <td>0.0</td>\n",
       "      <td>0.0</td>\n",
       "      <td>0.0</td>\n",
       "      <td>0.0</td>\n",
       "      <td>0.0</td>\n",
       "      <td>0.0</td>\n",
       "    </tr>\n",
       "    <tr>\n",
       "      <th>16</th>\n",
       "      <td>V1_PDE_A_8</td>\n",
       "      <td>1.659462e+09</td>\n",
       "      <td>4.0</td>\n",
       "      <td>28.11</td>\n",
       "      <td>28.11</td>\n",
       "      <td>28.11</td>\n",
       "      <td>28.11</td>\n",
       "      <td>28.11</td>\n",
       "      <td>28.11</td>\n",
       "      <td>28.11</td>\n",
       "      <td>...</td>\n",
       "      <td>0.0</td>\n",
       "      <td>0.0</td>\n",
       "      <td>0.0</td>\n",
       "      <td>0.0</td>\n",
       "      <td>0.0</td>\n",
       "      <td>0.0</td>\n",
       "      <td>0.0</td>\n",
       "      <td>0.0</td>\n",
       "      <td>0.0</td>\n",
       "      <td>0.0</td>\n",
       "    </tr>\n",
       "    <tr>\n",
       "      <th>17</th>\n",
       "      <td>V1_PDE_A_9</td>\n",
       "      <td>1.659462e+09</td>\n",
       "      <td>4.0</td>\n",
       "      <td>27.89</td>\n",
       "      <td>27.89</td>\n",
       "      <td>27.89</td>\n",
       "      <td>27.89</td>\n",
       "      <td>27.89</td>\n",
       "      <td>27.89</td>\n",
       "      <td>27.89</td>\n",
       "      <td>...</td>\n",
       "      <td>0.0</td>\n",
       "      <td>0.0</td>\n",
       "      <td>0.0</td>\n",
       "      <td>0.0</td>\n",
       "      <td>0.0</td>\n",
       "      <td>0.0</td>\n",
       "      <td>0.0</td>\n",
       "      <td>0.0</td>\n",
       "      <td>0.0</td>\n",
       "      <td>0.0</td>\n",
       "    </tr>\n",
       "    <tr>\n",
       "      <th>18</th>\n",
       "      <td>V1_PDE_D_6</td>\n",
       "      <td>1.659461e+09</td>\n",
       "      <td>4.0</td>\n",
       "      <td>28.39</td>\n",
       "      <td>28.39</td>\n",
       "      <td>28.39</td>\n",
       "      <td>28.39</td>\n",
       "      <td>28.39</td>\n",
       "      <td>28.39</td>\n",
       "      <td>28.39</td>\n",
       "      <td>...</td>\n",
       "      <td>0.0</td>\n",
       "      <td>0.0</td>\n",
       "      <td>0.0</td>\n",
       "      <td>0.0</td>\n",
       "      <td>0.0</td>\n",
       "      <td>0.0</td>\n",
       "      <td>0.0</td>\n",
       "      <td>0.0</td>\n",
       "      <td>0.0</td>\n",
       "      <td>0.0</td>\n",
       "    </tr>\n",
       "    <tr>\n",
       "      <th>19</th>\n",
       "      <td>V1_PDE_D_7</td>\n",
       "      <td>1.659461e+09</td>\n",
       "      <td>4.0</td>\n",
       "      <td>28.23</td>\n",
       "      <td>28.23</td>\n",
       "      <td>28.23</td>\n",
       "      <td>28.23</td>\n",
       "      <td>28.23</td>\n",
       "      <td>28.23</td>\n",
       "      <td>28.23</td>\n",
       "      <td>...</td>\n",
       "      <td>0.0</td>\n",
       "      <td>0.0</td>\n",
       "      <td>0.0</td>\n",
       "      <td>0.0</td>\n",
       "      <td>0.0</td>\n",
       "      <td>0.0</td>\n",
       "      <td>0.0</td>\n",
       "      <td>0.0</td>\n",
       "      <td>0.0</td>\n",
       "      <td>0.0</td>\n",
       "    </tr>\n",
       "    <tr>\n",
       "      <th>20</th>\n",
       "      <td>V1_PDE_D_8</td>\n",
       "      <td>1.659462e+09</td>\n",
       "      <td>4.0</td>\n",
       "      <td>27.99</td>\n",
       "      <td>27.99</td>\n",
       "      <td>27.99</td>\n",
       "      <td>27.99</td>\n",
       "      <td>27.99</td>\n",
       "      <td>27.99</td>\n",
       "      <td>27.99</td>\n",
       "      <td>...</td>\n",
       "      <td>0.0</td>\n",
       "      <td>0.0</td>\n",
       "      <td>0.0</td>\n",
       "      <td>0.0</td>\n",
       "      <td>0.0</td>\n",
       "      <td>0.0</td>\n",
       "      <td>0.0</td>\n",
       "      <td>0.0</td>\n",
       "      <td>0.0</td>\n",
       "      <td>0.0</td>\n",
       "    </tr>\n",
       "    <tr>\n",
       "      <th>21</th>\n",
       "      <td>V1_PDE_D_9</td>\n",
       "      <td>1.659462e+09</td>\n",
       "      <td>4.0</td>\n",
       "      <td>27.81</td>\n",
       "      <td>27.81</td>\n",
       "      <td>27.81</td>\n",
       "      <td>27.81</td>\n",
       "      <td>27.81</td>\n",
       "      <td>27.81</td>\n",
       "      <td>27.81</td>\n",
       "      <td>...</td>\n",
       "      <td>0.0</td>\n",
       "      <td>0.0</td>\n",
       "      <td>0.0</td>\n",
       "      <td>0.0</td>\n",
       "      <td>0.0</td>\n",
       "      <td>0.0</td>\n",
       "      <td>0.0</td>\n",
       "      <td>0.0</td>\n",
       "      <td>0.0</td>\n",
       "      <td>0.0</td>\n",
       "    </tr>\n",
       "    <tr>\n",
       "      <th>22</th>\n",
       "      <td>V1_PDE_G_6</td>\n",
       "      <td>1.659461e+09</td>\n",
       "      <td>4.0</td>\n",
       "      <td>28.41</td>\n",
       "      <td>28.41</td>\n",
       "      <td>28.41</td>\n",
       "      <td>28.41</td>\n",
       "      <td>28.41</td>\n",
       "      <td>28.41</td>\n",
       "      <td>28.41</td>\n",
       "      <td>...</td>\n",
       "      <td>0.0</td>\n",
       "      <td>0.0</td>\n",
       "      <td>0.0</td>\n",
       "      <td>0.0</td>\n",
       "      <td>0.0</td>\n",
       "      <td>0.0</td>\n",
       "      <td>0.0</td>\n",
       "      <td>0.0</td>\n",
       "      <td>0.0</td>\n",
       "      <td>0.0</td>\n",
       "    </tr>\n",
       "    <tr>\n",
       "      <th>23</th>\n",
       "      <td>V1_PDE_G_7</td>\n",
       "      <td>1.659461e+09</td>\n",
       "      <td>4.0</td>\n",
       "      <td>28.19</td>\n",
       "      <td>28.19</td>\n",
       "      <td>28.19</td>\n",
       "      <td>28.19</td>\n",
       "      <td>28.19</td>\n",
       "      <td>28.19</td>\n",
       "      <td>28.19</td>\n",
       "      <td>...</td>\n",
       "      <td>0.0</td>\n",
       "      <td>0.0</td>\n",
       "      <td>0.0</td>\n",
       "      <td>0.0</td>\n",
       "      <td>0.0</td>\n",
       "      <td>0.0</td>\n",
       "      <td>0.0</td>\n",
       "      <td>0.0</td>\n",
       "      <td>0.0</td>\n",
       "      <td>0.0</td>\n",
       "    </tr>\n",
       "    <tr>\n",
       "      <th>24</th>\n",
       "      <td>V1_PDE_G_8</td>\n",
       "      <td>1.659462e+09</td>\n",
       "      <td>4.0</td>\n",
       "      <td>27.97</td>\n",
       "      <td>27.97</td>\n",
       "      <td>27.97</td>\n",
       "      <td>27.97</td>\n",
       "      <td>27.97</td>\n",
       "      <td>27.97</td>\n",
       "      <td>27.97</td>\n",
       "      <td>...</td>\n",
       "      <td>0.0</td>\n",
       "      <td>0.0</td>\n",
       "      <td>0.0</td>\n",
       "      <td>0.0</td>\n",
       "      <td>0.0</td>\n",
       "      <td>0.0</td>\n",
       "      <td>0.0</td>\n",
       "      <td>0.0</td>\n",
       "      <td>0.0</td>\n",
       "      <td>0.0</td>\n",
       "    </tr>\n",
       "    <tr>\n",
       "      <th>25</th>\n",
       "      <td>V1_PDE_G_9</td>\n",
       "      <td>1.659462e+09</td>\n",
       "      <td>4.0</td>\n",
       "      <td>27.77</td>\n",
       "      <td>27.77</td>\n",
       "      <td>27.77</td>\n",
       "      <td>27.77</td>\n",
       "      <td>27.77</td>\n",
       "      <td>27.77</td>\n",
       "      <td>27.77</td>\n",
       "      <td>...</td>\n",
       "      <td>0.0</td>\n",
       "      <td>0.0</td>\n",
       "      <td>0.0</td>\n",
       "      <td>0.0</td>\n",
       "      <td>0.0</td>\n",
       "      <td>0.0</td>\n",
       "      <td>0.0</td>\n",
       "      <td>0.0</td>\n",
       "      <td>0.0</td>\n",
       "      <td>0.0</td>\n",
       "    </tr>\n",
       "    <tr>\n",
       "      <th>26</th>\n",
       "      <td>V1_QD_A_10</td>\n",
       "      <td>1.659462e+09</td>\n",
       "      <td>4.0</td>\n",
       "      <td>27.71</td>\n",
       "      <td>27.71</td>\n",
       "      <td>27.71</td>\n",
       "      <td>27.71</td>\n",
       "      <td>27.71</td>\n",
       "      <td>27.71</td>\n",
       "      <td>27.71</td>\n",
       "      <td>...</td>\n",
       "      <td>0.0</td>\n",
       "      <td>0.0</td>\n",
       "      <td>0.0</td>\n",
       "      <td>0.0</td>\n",
       "      <td>0.0</td>\n",
       "      <td>0.0</td>\n",
       "      <td>0.0</td>\n",
       "      <td>0.0</td>\n",
       "      <td>0.0</td>\n",
       "      <td>0.0</td>\n",
       "    </tr>\n",
       "    <tr>\n",
       "      <th>27</th>\n",
       "      <td>V1_QD_A_11</td>\n",
       "      <td>1.659463e+09</td>\n",
       "      <td>4.0</td>\n",
       "      <td>27.59</td>\n",
       "      <td>27.59</td>\n",
       "      <td>27.59</td>\n",
       "      <td>27.59</td>\n",
       "      <td>27.59</td>\n",
       "      <td>27.59</td>\n",
       "      <td>27.59</td>\n",
       "      <td>...</td>\n",
       "      <td>0.0</td>\n",
       "      <td>0.0</td>\n",
       "      <td>0.0</td>\n",
       "      <td>0.0</td>\n",
       "      <td>0.0</td>\n",
       "      <td>0.0</td>\n",
       "      <td>0.0</td>\n",
       "      <td>0.0</td>\n",
       "      <td>0.0</td>\n",
       "      <td>0.0</td>\n",
       "    </tr>\n",
       "    <tr>\n",
       "      <th>28</th>\n",
       "      <td>V1_QD_A_12</td>\n",
       "      <td>1.659463e+09</td>\n",
       "      <td>4.0</td>\n",
       "      <td>28.01</td>\n",
       "      <td>28.01</td>\n",
       "      <td>28.01</td>\n",
       "      <td>28.01</td>\n",
       "      <td>28.01</td>\n",
       "      <td>28.01</td>\n",
       "      <td>28.01</td>\n",
       "      <td>...</td>\n",
       "      <td>0.0</td>\n",
       "      <td>0.0</td>\n",
       "      <td>0.0</td>\n",
       "      <td>0.0</td>\n",
       "      <td>0.0</td>\n",
       "      <td>0.0</td>\n",
       "      <td>0.0</td>\n",
       "      <td>0.0</td>\n",
       "      <td>0.0</td>\n",
       "      <td>0.0</td>\n",
       "    </tr>\n",
       "    <tr>\n",
       "      <th>29</th>\n",
       "      <td>V1_QD_D_10</td>\n",
       "      <td>1.659462e+09</td>\n",
       "      <td>4.0</td>\n",
       "      <td>27.63</td>\n",
       "      <td>27.63</td>\n",
       "      <td>27.63</td>\n",
       "      <td>27.63</td>\n",
       "      <td>27.63</td>\n",
       "      <td>27.63</td>\n",
       "      <td>27.63</td>\n",
       "      <td>...</td>\n",
       "      <td>0.0</td>\n",
       "      <td>0.0</td>\n",
       "      <td>0.0</td>\n",
       "      <td>0.0</td>\n",
       "      <td>0.0</td>\n",
       "      <td>0.0</td>\n",
       "      <td>0.0</td>\n",
       "      <td>0.0</td>\n",
       "      <td>0.0</td>\n",
       "      <td>0.0</td>\n",
       "    </tr>\n",
       "    <tr>\n",
       "      <th>30</th>\n",
       "      <td>V1_QD_D_11</td>\n",
       "      <td>1.659463e+09</td>\n",
       "      <td>4.0</td>\n",
       "      <td>27.45</td>\n",
       "      <td>27.45</td>\n",
       "      <td>27.45</td>\n",
       "      <td>27.45</td>\n",
       "      <td>27.45</td>\n",
       "      <td>27.45</td>\n",
       "      <td>27.45</td>\n",
       "      <td>...</td>\n",
       "      <td>0.0</td>\n",
       "      <td>0.0</td>\n",
       "      <td>0.0</td>\n",
       "      <td>0.0</td>\n",
       "      <td>0.0</td>\n",
       "      <td>0.0</td>\n",
       "      <td>0.0</td>\n",
       "      <td>0.0</td>\n",
       "      <td>0.0</td>\n",
       "      <td>0.0</td>\n",
       "    </tr>\n",
       "    <tr>\n",
       "      <th>31</th>\n",
       "      <td>V1_QD_D_12</td>\n",
       "      <td>1.659463e+09</td>\n",
       "      <td>4.0</td>\n",
       "      <td>28.03</td>\n",
       "      <td>28.03</td>\n",
       "      <td>28.03</td>\n",
       "      <td>28.03</td>\n",
       "      <td>28.03</td>\n",
       "      <td>28.03</td>\n",
       "      <td>28.03</td>\n",
       "      <td>...</td>\n",
       "      <td>0.0</td>\n",
       "      <td>0.0</td>\n",
       "      <td>0.0</td>\n",
       "      <td>0.0</td>\n",
       "      <td>0.0</td>\n",
       "      <td>0.0</td>\n",
       "      <td>0.0</td>\n",
       "      <td>0.0</td>\n",
       "      <td>0.0</td>\n",
       "      <td>0.0</td>\n",
       "    </tr>\n",
       "    <tr>\n",
       "      <th>32</th>\n",
       "      <td>V1_QD_G_10</td>\n",
       "      <td>1.659462e+09</td>\n",
       "      <td>4.0</td>\n",
       "      <td>27.53</td>\n",
       "      <td>27.53</td>\n",
       "      <td>27.53</td>\n",
       "      <td>27.53</td>\n",
       "      <td>27.53</td>\n",
       "      <td>27.53</td>\n",
       "      <td>27.53</td>\n",
       "      <td>...</td>\n",
       "      <td>0.0</td>\n",
       "      <td>0.0</td>\n",
       "      <td>0.0</td>\n",
       "      <td>0.0</td>\n",
       "      <td>0.0</td>\n",
       "      <td>0.0</td>\n",
       "      <td>0.0</td>\n",
       "      <td>0.0</td>\n",
       "      <td>0.0</td>\n",
       "      <td>0.0</td>\n",
       "    </tr>\n",
       "    <tr>\n",
       "      <th>33</th>\n",
       "      <td>V1_QD_G_11</td>\n",
       "      <td>1.659463e+09</td>\n",
       "      <td>4.0</td>\n",
       "      <td>27.77</td>\n",
       "      <td>27.77</td>\n",
       "      <td>27.77</td>\n",
       "      <td>27.77</td>\n",
       "      <td>27.77</td>\n",
       "      <td>27.77</td>\n",
       "      <td>27.77</td>\n",
       "      <td>...</td>\n",
       "      <td>0.0</td>\n",
       "      <td>0.0</td>\n",
       "      <td>0.0</td>\n",
       "      <td>0.0</td>\n",
       "      <td>0.0</td>\n",
       "      <td>0.0</td>\n",
       "      <td>0.0</td>\n",
       "      <td>0.0</td>\n",
       "      <td>0.0</td>\n",
       "      <td>0.0</td>\n",
       "    </tr>\n",
       "    <tr>\n",
       "      <th>34</th>\n",
       "      <td>V1_QD_G_12</td>\n",
       "      <td>1.659463e+09</td>\n",
       "      <td>4.0</td>\n",
       "      <td>28.03</td>\n",
       "      <td>28.03</td>\n",
       "      <td>28.03</td>\n",
       "      <td>28.03</td>\n",
       "      <td>28.03</td>\n",
       "      <td>28.03</td>\n",
       "      <td>28.03</td>\n",
       "      <td>...</td>\n",
       "      <td>0.0</td>\n",
       "      <td>0.0</td>\n",
       "      <td>0.0</td>\n",
       "      <td>0.0</td>\n",
       "      <td>0.0</td>\n",
       "      <td>0.0</td>\n",
       "      <td>0.0</td>\n",
       "      <td>0.0</td>\n",
       "      <td>0.0</td>\n",
       "      <td>0.0</td>\n",
       "    </tr>\n",
       "  </tbody>\n",
       "</table>\n",
       "<p>35 rows × 10001 columns</p>\n",
       "</div>"
      ],
      "text/plain": [
       "    V1_AVD_A_1  1659458367.0  4.0  29.73  29.73.1  29.73.2  29.73.3  29.73.4  \\\n",
       "0   V1_AVD_A_2  1.659459e+09  4.0  29.79    29.79    29.79    29.79    29.79   \n",
       "1   V1_AVD_A_3  1.659459e+09  4.0  29.53    29.53    29.53    29.53    29.53   \n",
       "2   V1_AVD_A_4  1.659460e+09  4.0  29.27    29.27    29.27    29.27    29.27   \n",
       "3   V1_AVD_A_5  1.659460e+09  4.0  28.91    28.91    28.91    28.91    28.91   \n",
       "4   V1_AVD_D_1  1.659458e+09  4.0  29.61    29.61    29.61    29.61    29.61   \n",
       "5   V1_AVD_D_2  1.659459e+09  4.0  29.79    29.79    29.79    29.79    29.79   \n",
       "6   V1_AVD_D_3  1.659459e+09  4.0  29.37    29.37    29.37    29.37    29.37   \n",
       "7   V1_AVD_D_4  1.659460e+09  4.0  29.25    29.25    29.25    29.25    29.25   \n",
       "8   V1_AVD_D_5  1.659460e+09  4.0  28.83    28.83    28.83    28.83    28.83   \n",
       "9   V1_AVD_G_1  1.659459e+09  4.0  29.95    29.95    29.95    29.95    29.95   \n",
       "10  V1_AVD_G_2  1.659459e+09  4.0  29.71    29.71    29.71    29.71    29.71   \n",
       "11  V1_AVD_G_3  1.659459e+09  4.0  29.35    29.35    29.35    29.35    29.35   \n",
       "12  V1_AVD_G_4  1.659460e+09  4.0  29.15    29.15    29.15    29.15    29.15   \n",
       "13  V1_AVD_G_5  1.659461e+09  4.0  28.73    28.73    28.73    28.73    28.73   \n",
       "14  V1_PDE_A_6  1.659461e+09  4.0  28.41    28.41    28.41    28.41    28.41   \n",
       "15  V1_PDE_A_7  1.659461e+09  4.0  28.29    28.29    28.29    28.29    28.29   \n",
       "16  V1_PDE_A_8  1.659462e+09  4.0  28.11    28.11    28.11    28.11    28.11   \n",
       "17  V1_PDE_A_9  1.659462e+09  4.0  27.89    27.89    27.89    27.89    27.89   \n",
       "18  V1_PDE_D_6  1.659461e+09  4.0  28.39    28.39    28.39    28.39    28.39   \n",
       "19  V1_PDE_D_7  1.659461e+09  4.0  28.23    28.23    28.23    28.23    28.23   \n",
       "20  V1_PDE_D_8  1.659462e+09  4.0  27.99    27.99    27.99    27.99    27.99   \n",
       "21  V1_PDE_D_9  1.659462e+09  4.0  27.81    27.81    27.81    27.81    27.81   \n",
       "22  V1_PDE_G_6  1.659461e+09  4.0  28.41    28.41    28.41    28.41    28.41   \n",
       "23  V1_PDE_G_7  1.659461e+09  4.0  28.19    28.19    28.19    28.19    28.19   \n",
       "24  V1_PDE_G_8  1.659462e+09  4.0  27.97    27.97    27.97    27.97    27.97   \n",
       "25  V1_PDE_G_9  1.659462e+09  4.0  27.77    27.77    27.77    27.77    27.77   \n",
       "26  V1_QD_A_10  1.659462e+09  4.0  27.71    27.71    27.71    27.71    27.71   \n",
       "27  V1_QD_A_11  1.659463e+09  4.0  27.59    27.59    27.59    27.59    27.59   \n",
       "28  V1_QD_A_12  1.659463e+09  4.0  28.01    28.01    28.01    28.01    28.01   \n",
       "29  V1_QD_D_10  1.659462e+09  4.0  27.63    27.63    27.63    27.63    27.63   \n",
       "30  V1_QD_D_11  1.659463e+09  4.0  27.45    27.45    27.45    27.45    27.45   \n",
       "31  V1_QD_D_12  1.659463e+09  4.0  28.03    28.03    28.03    28.03    28.03   \n",
       "32  V1_QD_G_10  1.659462e+09  4.0  27.53    27.53    27.53    27.53    27.53   \n",
       "33  V1_QD_G_11  1.659463e+09  4.0  27.77    27.77    27.77    27.77    27.77   \n",
       "34  V1_QD_G_12  1.659463e+09  4.0  28.03    28.03    28.03    28.03    28.03   \n",
       "\n",
       "    29.73.5  29.73.6  ...  0.0.9732  0.0.9733  0.0.9734  0.0.9735  0.0.9736  \\\n",
       "0     29.79    29.79  ...       0.0       0.0       0.0       0.0       0.0   \n",
       "1     29.53    29.53  ...       0.0       0.0       0.0       0.0       0.0   \n",
       "2     29.27    29.27  ...       0.0       0.0       0.0       0.0       0.0   \n",
       "3     28.91    28.91  ...       0.0       0.0       0.0       0.0       0.0   \n",
       "4     29.61    29.61  ...       0.0       0.0       0.0       0.0       0.0   \n",
       "5     29.79    29.79  ...       0.0       0.0       0.0       0.0       0.0   \n",
       "6     29.37    29.37  ...       0.0       0.0       0.0       0.0       0.0   \n",
       "7     29.25    29.25  ...       0.0       0.0       0.0       0.0       0.0   \n",
       "8     28.83    28.83  ...       0.0       0.0       0.0       0.0       0.0   \n",
       "9     29.95    29.95  ...       0.0       0.0       0.0       0.0       0.0   \n",
       "10    29.71    29.71  ...       0.0       0.0       0.0       0.0       0.0   \n",
       "11    29.35    29.35  ...       0.0       0.0       0.0       0.0       0.0   \n",
       "12    29.15    29.15  ...       0.0       0.0       0.0       0.0       0.0   \n",
       "13    28.73    28.73  ...       0.0       0.0       0.0       0.0       0.0   \n",
       "14    28.41    28.41  ...       0.0       0.0       0.0       0.0       0.0   \n",
       "15    28.29    28.29  ...       0.0       0.0       0.0       0.0       0.0   \n",
       "16    28.11    28.11  ...       0.0       0.0       0.0       0.0       0.0   \n",
       "17    27.89    27.89  ...       0.0       0.0       0.0       0.0       0.0   \n",
       "18    28.39    28.39  ...       0.0       0.0       0.0       0.0       0.0   \n",
       "19    28.23    28.23  ...       0.0       0.0       0.0       0.0       0.0   \n",
       "20    27.99    27.99  ...       0.0       0.0       0.0       0.0       0.0   \n",
       "21    27.81    27.81  ...       0.0       0.0       0.0       0.0       0.0   \n",
       "22    28.41    28.41  ...       0.0       0.0       0.0       0.0       0.0   \n",
       "23    28.19    28.19  ...       0.0       0.0       0.0       0.0       0.0   \n",
       "24    27.97    27.97  ...       0.0       0.0       0.0       0.0       0.0   \n",
       "25    27.77    27.77  ...       0.0       0.0       0.0       0.0       0.0   \n",
       "26    27.71    27.71  ...       0.0       0.0       0.0       0.0       0.0   \n",
       "27    27.59    27.59  ...       0.0       0.0       0.0       0.0       0.0   \n",
       "28    28.01    28.01  ...       0.0       0.0       0.0       0.0       0.0   \n",
       "29    27.63    27.63  ...       0.0       0.0       0.0       0.0       0.0   \n",
       "30    27.45    27.45  ...       0.0       0.0       0.0       0.0       0.0   \n",
       "31    28.03    28.03  ...       0.0       0.0       0.0       0.0       0.0   \n",
       "32    27.53    27.53  ...       0.0       0.0       0.0       0.0       0.0   \n",
       "33    27.77    27.77  ...       0.0       0.0       0.0       0.0       0.0   \n",
       "34    28.03    28.03  ...       0.0       0.0       0.0       0.0       0.0   \n",
       "\n",
       "    0.0.9737  0.0.9738  0.0.9739  0.0.9740  0.0.9741  \n",
       "0        0.0       0.0       0.0       0.0       0.0  \n",
       "1        0.0       0.0       0.0       0.0       0.0  \n",
       "2        0.0       0.0       0.0       0.0       0.0  \n",
       "3        0.0       0.0       0.0       0.0       0.0  \n",
       "4        0.0       0.0       0.0       0.0       0.0  \n",
       "5        0.0       0.0       0.0       0.0       0.0  \n",
       "6        0.0       0.0       0.0       0.0       0.0  \n",
       "7        0.0       0.0       0.0       0.0       0.0  \n",
       "8        0.0       0.0       0.0       0.0       0.0  \n",
       "9        0.0       0.0       0.0       0.0       0.0  \n",
       "10       0.0       0.0       0.0       0.0       0.0  \n",
       "11       0.0       0.0       0.0       0.0       0.0  \n",
       "12       0.0       0.0       0.0       0.0       0.0  \n",
       "13       0.0       0.0       0.0       0.0       0.0  \n",
       "14       0.0       0.0       0.0       0.0       0.0  \n",
       "15       0.0       0.0       0.0       0.0       0.0  \n",
       "16       0.0       0.0       0.0       0.0       0.0  \n",
       "17       0.0       0.0       0.0       0.0       0.0  \n",
       "18       0.0       0.0       0.0       0.0       0.0  \n",
       "19       0.0       0.0       0.0       0.0       0.0  \n",
       "20       0.0       0.0       0.0       0.0       0.0  \n",
       "21       0.0       0.0       0.0       0.0       0.0  \n",
       "22       0.0       0.0       0.0       0.0       0.0  \n",
       "23       0.0       0.0       0.0       0.0       0.0  \n",
       "24       0.0       0.0       0.0       0.0       0.0  \n",
       "25       0.0       0.0       0.0       0.0       0.0  \n",
       "26       0.0       0.0       0.0       0.0       0.0  \n",
       "27       0.0       0.0       0.0       0.0       0.0  \n",
       "28       0.0       0.0       0.0       0.0       0.0  \n",
       "29       0.0       0.0       0.0       0.0       0.0  \n",
       "30       0.0       0.0       0.0       0.0       0.0  \n",
       "31       0.0       0.0       0.0       0.0       0.0  \n",
       "32       0.0       0.0       0.0       0.0       0.0  \n",
       "33       0.0       0.0       0.0       0.0       0.0  \n",
       "34       0.0       0.0       0.0       0.0       0.0  \n",
       "\n",
       "[35 rows x 10001 columns]"
      ]
     },
     "execution_count": 262,
     "metadata": {},
     "output_type": "execute_result"
    }
   ],
   "source": [
    "numerics"
   ]
  },
  {
   "cell_type": "code",
   "execution_count": null,
   "id": "15c2ef71-f444-43da-9d7f-d2cedddb64d7",
   "metadata": {},
   "outputs": [],
   "source": []
  }
 ],
 "metadata": {
  "kernelspec": {
   "display_name": "Python 3 (ipykernel)",
   "language": "python",
   "name": "python3"
  },
  "language_info": {
   "codemirror_mode": {
    "name": "ipython",
    "version": 3
   },
   "file_extension": ".py",
   "mimetype": "text/x-python",
   "name": "python",
   "nbconvert_exporter": "python",
   "pygments_lexer": "ipython3",
   "version": "3.10.0"
  }
 },
 "nbformat": 4,
 "nbformat_minor": 5
}
